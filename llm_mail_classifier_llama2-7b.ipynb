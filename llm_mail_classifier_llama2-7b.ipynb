{
  "nbformat": 4,
  "nbformat_minor": 0,
  "metadata": {
    "colab": {
      "provenance": [],
      "gpuType": "T4",
      "authorship_tag": "ABX9TyPK1rTcaAA0MhyKpZ19GXGn",
      "include_colab_link": true
    },
    "kernelspec": {
      "name": "python3",
      "display_name": "Python 3"
    },
    "language_info": {
      "name": "python"
    },
    "accelerator": "GPU",
    "widgets": {
      "application/vnd.jupyter.widget-state+json": {
        "9c0b1ccee54a489586f089cbb99be7f8": {
          "model_module": "@jupyter-widgets/controls",
          "model_name": "HBoxModel",
          "model_module_version": "1.5.0",
          "state": {
            "_dom_classes": [],
            "_model_module": "@jupyter-widgets/controls",
            "_model_module_version": "1.5.0",
            "_model_name": "HBoxModel",
            "_view_count": null,
            "_view_module": "@jupyter-widgets/controls",
            "_view_module_version": "1.5.0",
            "_view_name": "HBoxView",
            "box_style": "",
            "children": [
              "IPY_MODEL_0c69b96ed0fd4c46a41a3370203e8205",
              "IPY_MODEL_6d5576fdc83e4b2a8dc72ea7c6193abb",
              "IPY_MODEL_b9e781da44254b4f911f180c0bcb2da1"
            ],
            "layout": "IPY_MODEL_3cb33ed1a54547869b08c5fc01e754d4"
          }
        },
        "0c69b96ed0fd4c46a41a3370203e8205": {
          "model_module": "@jupyter-widgets/controls",
          "model_name": "HTMLModel",
          "model_module_version": "1.5.0",
          "state": {
            "_dom_classes": [],
            "_model_module": "@jupyter-widgets/controls",
            "_model_module_version": "1.5.0",
            "_model_name": "HTMLModel",
            "_view_count": null,
            "_view_module": "@jupyter-widgets/controls",
            "_view_module_version": "1.5.0",
            "_view_name": "HTMLView",
            "description": "",
            "description_tooltip": null,
            "layout": "IPY_MODEL_37a716f96b2a4e2ea2f264cfc8d864c5",
            "placeholder": "​",
            "style": "IPY_MODEL_821f0038652c472396892c4919ab4211",
            "value": "llama-2-7b-chat.Q5_K_M.gguf: 100%"
          }
        },
        "6d5576fdc83e4b2a8dc72ea7c6193abb": {
          "model_module": "@jupyter-widgets/controls",
          "model_name": "FloatProgressModel",
          "model_module_version": "1.5.0",
          "state": {
            "_dom_classes": [],
            "_model_module": "@jupyter-widgets/controls",
            "_model_module_version": "1.5.0",
            "_model_name": "FloatProgressModel",
            "_view_count": null,
            "_view_module": "@jupyter-widgets/controls",
            "_view_module_version": "1.5.0",
            "_view_name": "ProgressView",
            "bar_style": "success",
            "description": "",
            "description_tooltip": null,
            "layout": "IPY_MODEL_0d183225d62a4cac81d8b226d7d6408e",
            "max": 4783156928,
            "min": 0,
            "orientation": "horizontal",
            "style": "IPY_MODEL_dd4c8d61659f4c3b8451f9488ea00dd0",
            "value": 4783156928
          }
        },
        "b9e781da44254b4f911f180c0bcb2da1": {
          "model_module": "@jupyter-widgets/controls",
          "model_name": "HTMLModel",
          "model_module_version": "1.5.0",
          "state": {
            "_dom_classes": [],
            "_model_module": "@jupyter-widgets/controls",
            "_model_module_version": "1.5.0",
            "_model_name": "HTMLModel",
            "_view_count": null,
            "_view_module": "@jupyter-widgets/controls",
            "_view_module_version": "1.5.0",
            "_view_name": "HTMLView",
            "description": "",
            "description_tooltip": null,
            "layout": "IPY_MODEL_51a96a78972e4f5f90a121a7bdbe7421",
            "placeholder": "​",
            "style": "IPY_MODEL_0a4c4eb6f4cb4e6dbf476d7007ccd0dc",
            "value": " 4.78G/4.78G [00:40&lt;00:00, 158MB/s]"
          }
        },
        "3cb33ed1a54547869b08c5fc01e754d4": {
          "model_module": "@jupyter-widgets/base",
          "model_name": "LayoutModel",
          "model_module_version": "1.2.0",
          "state": {
            "_model_module": "@jupyter-widgets/base",
            "_model_module_version": "1.2.0",
            "_model_name": "LayoutModel",
            "_view_count": null,
            "_view_module": "@jupyter-widgets/base",
            "_view_module_version": "1.2.0",
            "_view_name": "LayoutView",
            "align_content": null,
            "align_items": null,
            "align_self": null,
            "border": null,
            "bottom": null,
            "display": null,
            "flex": null,
            "flex_flow": null,
            "grid_area": null,
            "grid_auto_columns": null,
            "grid_auto_flow": null,
            "grid_auto_rows": null,
            "grid_column": null,
            "grid_gap": null,
            "grid_row": null,
            "grid_template_areas": null,
            "grid_template_columns": null,
            "grid_template_rows": null,
            "height": null,
            "justify_content": null,
            "justify_items": null,
            "left": null,
            "margin": null,
            "max_height": null,
            "max_width": null,
            "min_height": null,
            "min_width": null,
            "object_fit": null,
            "object_position": null,
            "order": null,
            "overflow": null,
            "overflow_x": null,
            "overflow_y": null,
            "padding": null,
            "right": null,
            "top": null,
            "visibility": null,
            "width": null
          }
        },
        "37a716f96b2a4e2ea2f264cfc8d864c5": {
          "model_module": "@jupyter-widgets/base",
          "model_name": "LayoutModel",
          "model_module_version": "1.2.0",
          "state": {
            "_model_module": "@jupyter-widgets/base",
            "_model_module_version": "1.2.0",
            "_model_name": "LayoutModel",
            "_view_count": null,
            "_view_module": "@jupyter-widgets/base",
            "_view_module_version": "1.2.0",
            "_view_name": "LayoutView",
            "align_content": null,
            "align_items": null,
            "align_self": null,
            "border": null,
            "bottom": null,
            "display": null,
            "flex": null,
            "flex_flow": null,
            "grid_area": null,
            "grid_auto_columns": null,
            "grid_auto_flow": null,
            "grid_auto_rows": null,
            "grid_column": null,
            "grid_gap": null,
            "grid_row": null,
            "grid_template_areas": null,
            "grid_template_columns": null,
            "grid_template_rows": null,
            "height": null,
            "justify_content": null,
            "justify_items": null,
            "left": null,
            "margin": null,
            "max_height": null,
            "max_width": null,
            "min_height": null,
            "min_width": null,
            "object_fit": null,
            "object_position": null,
            "order": null,
            "overflow": null,
            "overflow_x": null,
            "overflow_y": null,
            "padding": null,
            "right": null,
            "top": null,
            "visibility": null,
            "width": null
          }
        },
        "821f0038652c472396892c4919ab4211": {
          "model_module": "@jupyter-widgets/controls",
          "model_name": "DescriptionStyleModel",
          "model_module_version": "1.5.0",
          "state": {
            "_model_module": "@jupyter-widgets/controls",
            "_model_module_version": "1.5.0",
            "_model_name": "DescriptionStyleModel",
            "_view_count": null,
            "_view_module": "@jupyter-widgets/base",
            "_view_module_version": "1.2.0",
            "_view_name": "StyleView",
            "description_width": ""
          }
        },
        "0d183225d62a4cac81d8b226d7d6408e": {
          "model_module": "@jupyter-widgets/base",
          "model_name": "LayoutModel",
          "model_module_version": "1.2.0",
          "state": {
            "_model_module": "@jupyter-widgets/base",
            "_model_module_version": "1.2.0",
            "_model_name": "LayoutModel",
            "_view_count": null,
            "_view_module": "@jupyter-widgets/base",
            "_view_module_version": "1.2.0",
            "_view_name": "LayoutView",
            "align_content": null,
            "align_items": null,
            "align_self": null,
            "border": null,
            "bottom": null,
            "display": null,
            "flex": null,
            "flex_flow": null,
            "grid_area": null,
            "grid_auto_columns": null,
            "grid_auto_flow": null,
            "grid_auto_rows": null,
            "grid_column": null,
            "grid_gap": null,
            "grid_row": null,
            "grid_template_areas": null,
            "grid_template_columns": null,
            "grid_template_rows": null,
            "height": null,
            "justify_content": null,
            "justify_items": null,
            "left": null,
            "margin": null,
            "max_height": null,
            "max_width": null,
            "min_height": null,
            "min_width": null,
            "object_fit": null,
            "object_position": null,
            "order": null,
            "overflow": null,
            "overflow_x": null,
            "overflow_y": null,
            "padding": null,
            "right": null,
            "top": null,
            "visibility": null,
            "width": null
          }
        },
        "dd4c8d61659f4c3b8451f9488ea00dd0": {
          "model_module": "@jupyter-widgets/controls",
          "model_name": "ProgressStyleModel",
          "model_module_version": "1.5.0",
          "state": {
            "_model_module": "@jupyter-widgets/controls",
            "_model_module_version": "1.5.0",
            "_model_name": "ProgressStyleModel",
            "_view_count": null,
            "_view_module": "@jupyter-widgets/base",
            "_view_module_version": "1.2.0",
            "_view_name": "StyleView",
            "bar_color": null,
            "description_width": ""
          }
        },
        "51a96a78972e4f5f90a121a7bdbe7421": {
          "model_module": "@jupyter-widgets/base",
          "model_name": "LayoutModel",
          "model_module_version": "1.2.0",
          "state": {
            "_model_module": "@jupyter-widgets/base",
            "_model_module_version": "1.2.0",
            "_model_name": "LayoutModel",
            "_view_count": null,
            "_view_module": "@jupyter-widgets/base",
            "_view_module_version": "1.2.0",
            "_view_name": "LayoutView",
            "align_content": null,
            "align_items": null,
            "align_self": null,
            "border": null,
            "bottom": null,
            "display": null,
            "flex": null,
            "flex_flow": null,
            "grid_area": null,
            "grid_auto_columns": null,
            "grid_auto_flow": null,
            "grid_auto_rows": null,
            "grid_column": null,
            "grid_gap": null,
            "grid_row": null,
            "grid_template_areas": null,
            "grid_template_columns": null,
            "grid_template_rows": null,
            "height": null,
            "justify_content": null,
            "justify_items": null,
            "left": null,
            "margin": null,
            "max_height": null,
            "max_width": null,
            "min_height": null,
            "min_width": null,
            "object_fit": null,
            "object_position": null,
            "order": null,
            "overflow": null,
            "overflow_x": null,
            "overflow_y": null,
            "padding": null,
            "right": null,
            "top": null,
            "visibility": null,
            "width": null
          }
        },
        "0a4c4eb6f4cb4e6dbf476d7007ccd0dc": {
          "model_module": "@jupyter-widgets/controls",
          "model_name": "DescriptionStyleModel",
          "model_module_version": "1.5.0",
          "state": {
            "_model_module": "@jupyter-widgets/controls",
            "_model_module_version": "1.5.0",
            "_model_name": "DescriptionStyleModel",
            "_view_count": null,
            "_view_module": "@jupyter-widgets/base",
            "_view_module_version": "1.2.0",
            "_view_name": "StyleView",
            "description_width": ""
          }
        }
      }
    }
  },
  "cells": [
    {
      "cell_type": "markdown",
      "metadata": {
        "id": "view-in-github",
        "colab_type": "text"
      },
      "source": [
        "<a href=\"https://colab.research.google.com/github/daniel-mueller92/llm_mail_classifier/blob/main/llm_mail_classifier_llama2-7b.ipynb\" target=\"_parent\"><img src=\"https://colab.research.google.com/assets/colab-badge.svg\" alt=\"Open In Colab\"/></a>"
      ]
    },
    {
      "cell_type": "code",
      "source": [
        "!CMAKE_ARGS=\"-DLLAMA_CUBLAS=on\" pip install llama-cpp-python\n",
        "!pip install huggingface_hub"
      ],
      "metadata": {
        "colab": {
          "base_uri": "https://localhost:8080/"
        },
        "id": "FYNb_DIGPm0d",
        "outputId": "d2b2f404-ebff-47df-c754-27c267c66c14"
      },
      "execution_count": 7,
      "outputs": [
        {
          "output_type": "stream",
          "name": "stdout",
          "text": [
            "Collecting llama-cpp-python\n",
            "  Using cached llama_cpp_python-0.2.24.tar.gz (8.8 MB)\n",
            "  Installing build dependencies ... \u001b[?25l\u001b[?25hdone\n",
            "  Getting requirements to build wheel ... \u001b[?25l\u001b[?25hdone\n",
            "  Installing backend dependencies ... \u001b[?25l\u001b[?25hdone\n",
            "  Preparing metadata (pyproject.toml) ... \u001b[?25l\u001b[?25hdone\n",
            "Requirement already satisfied: typing-extensions>=4.5.0 in /usr/local/lib/python3.10/dist-packages (from llama-cpp-python) (4.5.0)\n",
            "Requirement already satisfied: numpy>=1.20.0 in /usr/local/lib/python3.10/dist-packages (from llama-cpp-python) (1.23.5)\n",
            "Requirement already satisfied: diskcache>=5.6.1 in /usr/local/lib/python3.10/dist-packages (from llama-cpp-python) (5.6.3)\n",
            "Building wheels for collected packages: llama-cpp-python\n",
            "  Building wheel for llama-cpp-python (pyproject.toml) ... \u001b[?25l\u001b[?25hdone\n",
            "  Created wheel for llama-cpp-python: filename=llama_cpp_python-0.2.24-cp310-cp310-manylinux_2_35_x86_64.whl size=8156058 sha256=455a41ff3a3da3b0377c6f650b1bc0841b21ebd5626558114c28fcde5895f45c\n",
            "  Stored in directory: /root/.cache/pip/wheels/9b/5f/31/172f820a61d82eb7b057b7d05ff9a05345012066e8ae781788\n",
            "Successfully built llama-cpp-python\n",
            "Installing collected packages: llama-cpp-python\n",
            "Successfully installed llama-cpp-python-0.2.24\n",
            "Requirement already satisfied: huggingface_hub in /usr/local/lib/python3.10/dist-packages (0.19.4)\n",
            "Requirement already satisfied: filelock in /usr/local/lib/python3.10/dist-packages (from huggingface_hub) (3.13.1)\n",
            "Requirement already satisfied: fsspec>=2023.5.0 in /usr/local/lib/python3.10/dist-packages (from huggingface_hub) (2023.6.0)\n",
            "Requirement already satisfied: requests in /usr/local/lib/python3.10/dist-packages (from huggingface_hub) (2.31.0)\n",
            "Requirement already satisfied: tqdm>=4.42.1 in /usr/local/lib/python3.10/dist-packages (from huggingface_hub) (4.66.1)\n",
            "Requirement already satisfied: pyyaml>=5.1 in /usr/local/lib/python3.10/dist-packages (from huggingface_hub) (6.0.1)\n",
            "Requirement already satisfied: typing-extensions>=3.7.4.3 in /usr/local/lib/python3.10/dist-packages (from huggingface_hub) (4.5.0)\n",
            "Requirement already satisfied: packaging>=20.9 in /usr/local/lib/python3.10/dist-packages (from huggingface_hub) (23.2)\n",
            "Requirement already satisfied: charset-normalizer<4,>=2 in /usr/local/lib/python3.10/dist-packages (from requests->huggingface_hub) (3.3.2)\n",
            "Requirement already satisfied: idna<4,>=2.5 in /usr/local/lib/python3.10/dist-packages (from requests->huggingface_hub) (3.6)\n",
            "Requirement already satisfied: urllib3<3,>=1.21.1 in /usr/local/lib/python3.10/dist-packages (from requests->huggingface_hub) (2.0.7)\n",
            "Requirement already satisfied: certifi>=2017.4.17 in /usr/local/lib/python3.10/dist-packages (from requests->huggingface_hub) (2023.11.17)\n"
          ]
        }
      ]
    },
    {
      "cell_type": "code",
      "source": [
        "from google.colab import drive\n",
        "drive.mount('/content/drive')"
      ],
      "metadata": {
        "colab": {
          "base_uri": "https://localhost:8080/"
        },
        "id": "X5wJt379HIEJ",
        "outputId": "233b7e4e-cf1d-4481-d477-41bf5ad29461"
      },
      "execution_count": 2,
      "outputs": [
        {
          "output_type": "stream",
          "name": "stdout",
          "text": [
            "Mounted at /content/drive\n"
          ]
        }
      ]
    },
    {
      "cell_type": "code",
      "source": [
        "import pandas as pd\n",
        "import numpy as np\n",
        "\n",
        "import re\n",
        "import json\n",
        "import os\n",
        "\n",
        "# dont do this at home\n",
        "import warnings\n",
        "warnings.filterwarnings(\"ignore\")"
      ],
      "metadata": {
        "id": "mf0uygdyHL8H"
      },
      "execution_count": 8,
      "outputs": []
    },
    {
      "cell_type": "code",
      "source": [
        "df = pd.read_excel('/content/drive/MyDrive/dataset_anonymized.xlsx')"
      ],
      "metadata": {
        "id": "X30HawXnHMp2"
      },
      "execution_count": 9,
      "outputs": []
    },
    {
      "cell_type": "code",
      "source": [
        "def generate_prompt(df, idx, step=1):\n",
        "\n",
        "    file_content = df[\"txt\"][idx]\n",
        "\n",
        "    task1 = \"\"\"Bitte extrahiere folgende Informationen aus dem Dokument:\n",
        "    1. Um welche Kategorie von Dokument handelt es sich? Die Auswahlmöglichkeiten sind \"Deckungszusage\", \"Deckungsablehnung\", \"Nachfrage\" oder \"Kostensache\". Bei einer\n",
        "    Deckungszusage, erklärt die Versicherung, sie wird die zukünftigen Kosten des Falls übernehmen - bei einer Deckungszusage verneint sie das. Bei einer Nachfrage\n",
        "    möchte die Versicherung mehr Informationen von der Kanzlei. Eine Kostensache liegt nur vor, wenn die Versicherung erklärt, sie hat bereits Kosten bezahlt.\n",
        "    2. Wie lautet das Aktenzeichen der Kanzlei?\n",
        "    3. Wie lautet der Name des Mandanten?\n",
        "    4. Wie lautet die Schadensnummer des Versicherungsfalls?\n",
        "    Wenn du einen Wert nicht findest, schreibe \"None\".\n",
        "\n",
        "    Bitte formatiere deine Antwort als json-Datei wie folgt:\n",
        "    {\n",
        "        \"aktenzeichen\" : {extrahiertes Aktenzeichen},\n",
        "        \"name\" : {extrahierter Name},\n",
        "        \"schadensnummer\" : {extrahierte Schadensnummer},\n",
        "        \"kategorie\" : {extrahierte Kategorie: Deckungszusage - Deckungsablehnung - Nachfrage - Kosten}\n",
        "    }\"\"\"\n",
        "\n",
        "    task_dz = \"\"\"Bitte extrahiere folgende Informationen aus der Deckungszusage.\n",
        "    Auf welche Instanz bezieht sich die Deckungszusage? Zur Auswahl steht das außergerichtliche Verfahren, das gerichtliche Verfahren der ersten Instanz und das\n",
        "    Berufungsverfahren (2. Instanz).\n",
        "    Was ist der Betrag der Selbstbeteiligung der Deckungszusage? Wenn keine Selbstbeteiligung erwähnt ist, antworte mit 0.\n",
        "\n",
        "    Bitte formatiere deine Antwort als json-Datei wie folgt:\n",
        "    {\n",
        "        \"außergerichtlich\" : true/false,\n",
        "        \"gerichtlich\" : true/false,\n",
        "        \"berufung\" : true/false,\n",
        "        \"selbstbeteiligung\" : {extrahierter Betrag}\n",
        "    }\n",
        "    \"\"\"\n",
        "\n",
        "    task_nachfrage = \"\"\"1. Welche Nachfragegründe kannst du in der Nachfrage finden? Fragt die Rechtsschutzversicherung nach dem Sachstand? Fragt Sie nach der Klage?\n",
        "    Fragt Sie nach dem Anspruchsschreiben? Erinnert Sie an ein vorheriges Schreiben? Fragt Sie nach sonstigen Fragen?\n",
        "\n",
        "    2. Bitte füge alle gefundenen Antworten zu einer Liste zusammen.\n",
        "\n",
        "    3. Bitte formatiere deine Antwort im json-Format wie folgt:\n",
        "    {\n",
        "        \"Nachfragen\" : [Liste der gefundenen Nachfragegründe: \"Sachstand\", \"Klage\", \"Anspruchschreiben\", \"Erinnerung\", \"Sonstiges\"]\n",
        "    }\n",
        "    \"\"\"\n",
        "\n",
        "    if step == 1:\n",
        "        prompt = file_content + \"-Ende der Nachricht-\\n\" + task1\n",
        "    elif step == 2 and df[\"Typ\"][idx] == \"Deckungszusage\":\n",
        "        prompt = file_content + \"-Ende der Deckungszusage-\\n\" + task_dz\n",
        "    elif step == 2 and df[\"Typ\"][idx] == \"Nachfrage\":\n",
        "        prompt = file_content + \"-Ende der Nachfrage-\\n\" + task_nachfrage\n",
        "\n",
        "    return prompt\n",
        "\n",
        "def send_request(prompt):\n",
        "    response = llm.create_chat_completion(\n",
        "      messages = [\n",
        "          {\"role\": \"system\", \"content\": \"Du bist ein hilfreicher Assistent.\"},\n",
        "          {\n",
        "              \"role\": \"user\",\n",
        "              \"content\": prompt\n",
        "          }\n",
        "      ],\n",
        "      max_tokens=2048,\n",
        "      temperature=0.2,\n",
        "    )\n",
        "    return response\n",
        "\n",
        "#convert response and save dict to df\n",
        "def save_response(response, idx, step):\n",
        "    column_name = f'response_{step}_{model}'\n",
        "    if column_name not in df.columns:\n",
        "        df[column_name] = None\n",
        "\n",
        "    # llama and mistral\n",
        "    if model == \"llama-13b\" or model == \"mistral-7b\":\n",
        "        try:\n",
        "            response_text = response['choices'][0]['message']['content'].strip()\n",
        "            reponse_json  = extract_json(response_text)\n",
        "\n",
        "            response_dict = json.loads(reponse_json)\n",
        "            df[column_name][idx] = response_dict\n",
        "\n",
        "            if len(response_dict) > 4:\n",
        "                print(\"Unexpected number of arguments in dict!\")\n",
        "            else:\n",
        "                for key, value in response_dict.items():\n",
        "                    if f'{key}_{model}' not in df.columns:\n",
        "                        df[f'{key}_{model}'] = ''\n",
        "                    df.at[idx, f'{key}_{model}'] = value\n",
        "\n",
        "        except:\n",
        "            df[column_name][idx] = response_text\n",
        "            print(\"Antwort konnte nicht zu json formatiert werden\")\n",
        "\n",
        "\n",
        "\n",
        "def extract_json(string):\n",
        "    # Define a regular expression pattern to match JSON\n",
        "    pattern = r'\\{(.|\\n)*\\}'\n",
        "\n",
        "    # Find the JSON part using regex\n",
        "    json_match = re.search(pattern, string)\n",
        "\n",
        "    if json_match:\n",
        "        extracted_json = json_match.group()\n",
        "        #print(extracted_json)\n",
        "    else:\n",
        "        extracted_json = \"No JSON found\"\n",
        "        #print(\"No JSON part found in the string.\")\n",
        "\n",
        "    return extracted_json"
      ],
      "metadata": {
        "id": "mIcMoTpVHW9B"
      },
      "execution_count": 10,
      "outputs": []
    },
    {
      "cell_type": "code",
      "source": [
        "# Imports\n",
        "from llama_cpp import Llama\n",
        "from huggingface_hub import hf_hub_download"
      ],
      "metadata": {
        "id": "LkRGzankQ8Vw"
      },
      "execution_count": 11,
      "outputs": []
    },
    {
      "cell_type": "code",
      "source": [],
      "metadata": {
        "id": "XfYQZDknkEK1"
      },
      "execution_count": null,
      "outputs": []
    },
    {
      "cell_type": "code",
      "source": [
        "#modelpath=hf_hub_download(repo_id='TheBloke/em_german_mistral_v01-GGUF', filename=\"em_german_mistral_v01.Q8_0.gguf\")\n",
        "modelpath=hf_hub_download(repo_id='TheBloke/Llama-2-7B-Chat-GGUF', filename=\"llama-2-7b-chat.Q5_K_M.gguf\")\n",
        "\n",
        "#modelpath2=hf_hub_download(repo_id='TheBloke/Llama-2-13B-chat-GGUF', filename=\"llama-2-13b-chat.Q5_K_M.gguf\")"
      ],
      "metadata": {
        "id": "yUMldzTCRBLf",
        "colab": {
          "base_uri": "https://localhost:8080/",
          "height": 49,
          "referenced_widgets": [
            "9c0b1ccee54a489586f089cbb99be7f8",
            "0c69b96ed0fd4c46a41a3370203e8205",
            "6d5576fdc83e4b2a8dc72ea7c6193abb",
            "b9e781da44254b4f911f180c0bcb2da1",
            "3cb33ed1a54547869b08c5fc01e754d4",
            "37a716f96b2a4e2ea2f264cfc8d864c5",
            "821f0038652c472396892c4919ab4211",
            "0d183225d62a4cac81d8b226d7d6408e",
            "dd4c8d61659f4c3b8451f9488ea00dd0",
            "51a96a78972e4f5f90a121a7bdbe7421",
            "0a4c4eb6f4cb4e6dbf476d7007ccd0dc"
          ]
        },
        "outputId": "f507b7d5-eea8-4ed3-a882-0c723767d139"
      },
      "execution_count": 13,
      "outputs": [
        {
          "output_type": "display_data",
          "data": {
            "text/plain": [
              "llama-2-7b-chat.Q5_K_M.gguf:   0%|          | 0.00/4.78G [00:00<?, ?B/s]"
            ],
            "application/vnd.jupyter.widget-view+json": {
              "version_major": 2,
              "version_minor": 0,
              "model_id": "9c0b1ccee54a489586f089cbb99be7f8"
            }
          },
          "metadata": {}
        }
      ]
    },
    {
      "cell_type": "code",
      "source": [
        "llm = Llama(\n",
        "      model_path=modelpath,\n",
        "      n_ctx=2048,\n",
        "      n_batch=1024,\n",
        "      n_gpu_layers=-1,\n",
        "      #verbose=False\n",
        "      chat_format=\"llama-2\"\n",
        "      )"
      ],
      "metadata": {
        "colab": {
          "base_uri": "https://localhost:8080/"
        },
        "id": "3yJm5uE3RIZR",
        "outputId": "f568855d-b888-4bcb-f336-34a346d8d2c4"
      },
      "execution_count": 14,
      "outputs": [
        {
          "output_type": "stream",
          "name": "stderr",
          "text": [
            "AVX = 1 | AVX2 = 1 | AVX512 = 0 | AVX512_VBMI = 0 | AVX512_VNNI = 0 | FMA = 1 | NEON = 0 | ARM_FMA = 0 | F16C = 1 | FP16_VA = 0 | WASM_SIMD = 0 | BLAS = 1 | SSE3 = 1 | SSSE3 = 1 | VSX = 0 | \n"
          ]
        }
      ]
    },
    {
      "cell_type": "code",
      "source": [
        "# workflow for llama-7b\n",
        "\n",
        "model = \"llama-7b\"\n",
        "\n",
        "for idx, row in df.iterrows():\n",
        "\n",
        "    # first prompt/step\n",
        "    prompt = generate_prompt(df, idx, step=1)\n",
        "    response = send_request(prompt)\n",
        "\n",
        "    print(response['choices'][0]['message']['content'])\n",
        "\n",
        "    # write code to extract json only\n",
        "    # and add it here\n",
        "    save_response(response, idx, step=1)\n",
        "\n",
        "    # second prompt/step only for \"Deckungszusage\" and \"Nachfrage\"\n",
        "    if df[\"Typ\"][idx] == \"Deckungszusage\" or df[\"Typ\"][idx] == \"Nachfrage\":\n",
        "        prompt2 = generate_prompt(df, idx, step=2)\n",
        "        response2 = send_request(prompt2)\n",
        "        # check if json only was returned\n",
        "        save_response(response2, idx, step=2)\n",
        "\n",
        "    print(f\"Successfully processed entry {idx +1} of {df.shape[0]}\")\n",
        "    df.to_excel('/content/drive/MyDrive/results_llama-7b.xlsx')\n",
        "\n",
        "print(\"All done :)\")"
      ],
      "metadata": {
        "colab": {
          "base_uri": "https://localhost:8080/"
        },
        "id": "iA18CAa3KJ9I",
        "outputId": "80fb516a-053b-496b-a3a3-f407c5a0fa20"
      },
      "execution_count": null,
      "outputs": [
        {
          "output_type": "stream",
          "name": "stderr",
          "text": [
            "Llama.generate: prefix-match hit\n"
          ]
        },
        {
          "output_type": "stream",
          "name": "stdout",
          "text": [
            "  {\n",
            "    \"aktenzeichen\" : \"S-21-03384164\",\n",
            "    \"name\" : \"Denver Pearson\",\n",
            "    \"schadensnummer\" : \"S-21-03384164\",\n",
            "    \"kategorie\" : \"Deckungszusage\"\n",
            "}\n"
          ]
        },
        {
          "output_type": "stream",
          "name": "stderr",
          "text": [
            "Llama.generate: prefix-match hit\n"
          ]
        }
      ]
    }
  ]
}