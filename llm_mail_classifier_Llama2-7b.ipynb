{
  "nbformat": 4,
  "nbformat_minor": 0,
  "metadata": {
    "colab": {
      "provenance": [],
      "gpuType": "V100",
      "machine_shape": "hm",
      "authorship_tag": "ABX9TyNMf2HPL1LAv4YXm8p4nlRQ",
      "include_colab_link": true
    },
    "kernelspec": {
      "name": "python3",
      "display_name": "Python 3"
    },
    "language_info": {
      "name": "python"
    },
    "accelerator": "GPU",
    "widgets": {
      "application/vnd.jupyter.widget-state+json": {
        "4e494c74c6f44f3f972846680ecc8086": {
          "model_module": "@jupyter-widgets/controls",
          "model_name": "HBoxModel",
          "model_module_version": "1.5.0",
          "state": {
            "_dom_classes": [],
            "_model_module": "@jupyter-widgets/controls",
            "_model_module_version": "1.5.0",
            "_model_name": "HBoxModel",
            "_view_count": null,
            "_view_module": "@jupyter-widgets/controls",
            "_view_module_version": "1.5.0",
            "_view_name": "HBoxView",
            "box_style": "",
            "children": [
              "IPY_MODEL_e2b29065a9cf4a3a9dd8a6907e7da7ae",
              "IPY_MODEL_5b0f572c2bf241399a67c186b02b9eaa",
              "IPY_MODEL_128d2945dfaa42959b4ae2b0098a25b2"
            ],
            "layout": "IPY_MODEL_ade8bda9939247acb5759a120f434b17"
          }
        },
        "e2b29065a9cf4a3a9dd8a6907e7da7ae": {
          "model_module": "@jupyter-widgets/controls",
          "model_name": "HTMLModel",
          "model_module_version": "1.5.0",
          "state": {
            "_dom_classes": [],
            "_model_module": "@jupyter-widgets/controls",
            "_model_module_version": "1.5.0",
            "_model_name": "HTMLModel",
            "_view_count": null,
            "_view_module": "@jupyter-widgets/controls",
            "_view_module_version": "1.5.0",
            "_view_name": "HTMLView",
            "description": "",
            "description_tooltip": null,
            "layout": "IPY_MODEL_f3bfdc35f4cb4da6a5876e68dc136b6b",
            "placeholder": "​",
            "style": "IPY_MODEL_dda6b0a0089b4b57a10961b3b448010f",
            "value": "llama-2-7b-chat.Q5_K_M.gguf: 100%"
          }
        },
        "5b0f572c2bf241399a67c186b02b9eaa": {
          "model_module": "@jupyter-widgets/controls",
          "model_name": "FloatProgressModel",
          "model_module_version": "1.5.0",
          "state": {
            "_dom_classes": [],
            "_model_module": "@jupyter-widgets/controls",
            "_model_module_version": "1.5.0",
            "_model_name": "FloatProgressModel",
            "_view_count": null,
            "_view_module": "@jupyter-widgets/controls",
            "_view_module_version": "1.5.0",
            "_view_name": "ProgressView",
            "bar_style": "success",
            "description": "",
            "description_tooltip": null,
            "layout": "IPY_MODEL_5f5a2a8293654ad59d302d9ceb238872",
            "max": 4783156928,
            "min": 0,
            "orientation": "horizontal",
            "style": "IPY_MODEL_ec5b4ae2c9244e6cb558c36a32f73aad",
            "value": 4783156928
          }
        },
        "128d2945dfaa42959b4ae2b0098a25b2": {
          "model_module": "@jupyter-widgets/controls",
          "model_name": "HTMLModel",
          "model_module_version": "1.5.0",
          "state": {
            "_dom_classes": [],
            "_model_module": "@jupyter-widgets/controls",
            "_model_module_version": "1.5.0",
            "_model_name": "HTMLModel",
            "_view_count": null,
            "_view_module": "@jupyter-widgets/controls",
            "_view_module_version": "1.5.0",
            "_view_name": "HTMLView",
            "description": "",
            "description_tooltip": null,
            "layout": "IPY_MODEL_0a98b884793a402a8c140f3d19ac2ba8",
            "placeholder": "​",
            "style": "IPY_MODEL_5003df85abd14b2789ded5399bba45f7",
            "value": " 4.78G/4.78G [00:17&lt;00:00, 326MB/s]"
          }
        },
        "ade8bda9939247acb5759a120f434b17": {
          "model_module": "@jupyter-widgets/base",
          "model_name": "LayoutModel",
          "model_module_version": "1.2.0",
          "state": {
            "_model_module": "@jupyter-widgets/base",
            "_model_module_version": "1.2.0",
            "_model_name": "LayoutModel",
            "_view_count": null,
            "_view_module": "@jupyter-widgets/base",
            "_view_module_version": "1.2.0",
            "_view_name": "LayoutView",
            "align_content": null,
            "align_items": null,
            "align_self": null,
            "border": null,
            "bottom": null,
            "display": null,
            "flex": null,
            "flex_flow": null,
            "grid_area": null,
            "grid_auto_columns": null,
            "grid_auto_flow": null,
            "grid_auto_rows": null,
            "grid_column": null,
            "grid_gap": null,
            "grid_row": null,
            "grid_template_areas": null,
            "grid_template_columns": null,
            "grid_template_rows": null,
            "height": null,
            "justify_content": null,
            "justify_items": null,
            "left": null,
            "margin": null,
            "max_height": null,
            "max_width": null,
            "min_height": null,
            "min_width": null,
            "object_fit": null,
            "object_position": null,
            "order": null,
            "overflow": null,
            "overflow_x": null,
            "overflow_y": null,
            "padding": null,
            "right": null,
            "top": null,
            "visibility": null,
            "width": null
          }
        },
        "f3bfdc35f4cb4da6a5876e68dc136b6b": {
          "model_module": "@jupyter-widgets/base",
          "model_name": "LayoutModel",
          "model_module_version": "1.2.0",
          "state": {
            "_model_module": "@jupyter-widgets/base",
            "_model_module_version": "1.2.0",
            "_model_name": "LayoutModel",
            "_view_count": null,
            "_view_module": "@jupyter-widgets/base",
            "_view_module_version": "1.2.0",
            "_view_name": "LayoutView",
            "align_content": null,
            "align_items": null,
            "align_self": null,
            "border": null,
            "bottom": null,
            "display": null,
            "flex": null,
            "flex_flow": null,
            "grid_area": null,
            "grid_auto_columns": null,
            "grid_auto_flow": null,
            "grid_auto_rows": null,
            "grid_column": null,
            "grid_gap": null,
            "grid_row": null,
            "grid_template_areas": null,
            "grid_template_columns": null,
            "grid_template_rows": null,
            "height": null,
            "justify_content": null,
            "justify_items": null,
            "left": null,
            "margin": null,
            "max_height": null,
            "max_width": null,
            "min_height": null,
            "min_width": null,
            "object_fit": null,
            "object_position": null,
            "order": null,
            "overflow": null,
            "overflow_x": null,
            "overflow_y": null,
            "padding": null,
            "right": null,
            "top": null,
            "visibility": null,
            "width": null
          }
        },
        "dda6b0a0089b4b57a10961b3b448010f": {
          "model_module": "@jupyter-widgets/controls",
          "model_name": "DescriptionStyleModel",
          "model_module_version": "1.5.0",
          "state": {
            "_model_module": "@jupyter-widgets/controls",
            "_model_module_version": "1.5.0",
            "_model_name": "DescriptionStyleModel",
            "_view_count": null,
            "_view_module": "@jupyter-widgets/base",
            "_view_module_version": "1.2.0",
            "_view_name": "StyleView",
            "description_width": ""
          }
        },
        "5f5a2a8293654ad59d302d9ceb238872": {
          "model_module": "@jupyter-widgets/base",
          "model_name": "LayoutModel",
          "model_module_version": "1.2.0",
          "state": {
            "_model_module": "@jupyter-widgets/base",
            "_model_module_version": "1.2.0",
            "_model_name": "LayoutModel",
            "_view_count": null,
            "_view_module": "@jupyter-widgets/base",
            "_view_module_version": "1.2.0",
            "_view_name": "LayoutView",
            "align_content": null,
            "align_items": null,
            "align_self": null,
            "border": null,
            "bottom": null,
            "display": null,
            "flex": null,
            "flex_flow": null,
            "grid_area": null,
            "grid_auto_columns": null,
            "grid_auto_flow": null,
            "grid_auto_rows": null,
            "grid_column": null,
            "grid_gap": null,
            "grid_row": null,
            "grid_template_areas": null,
            "grid_template_columns": null,
            "grid_template_rows": null,
            "height": null,
            "justify_content": null,
            "justify_items": null,
            "left": null,
            "margin": null,
            "max_height": null,
            "max_width": null,
            "min_height": null,
            "min_width": null,
            "object_fit": null,
            "object_position": null,
            "order": null,
            "overflow": null,
            "overflow_x": null,
            "overflow_y": null,
            "padding": null,
            "right": null,
            "top": null,
            "visibility": null,
            "width": null
          }
        },
        "ec5b4ae2c9244e6cb558c36a32f73aad": {
          "model_module": "@jupyter-widgets/controls",
          "model_name": "ProgressStyleModel",
          "model_module_version": "1.5.0",
          "state": {
            "_model_module": "@jupyter-widgets/controls",
            "_model_module_version": "1.5.0",
            "_model_name": "ProgressStyleModel",
            "_view_count": null,
            "_view_module": "@jupyter-widgets/base",
            "_view_module_version": "1.2.0",
            "_view_name": "StyleView",
            "bar_color": null,
            "description_width": ""
          }
        },
        "0a98b884793a402a8c140f3d19ac2ba8": {
          "model_module": "@jupyter-widgets/base",
          "model_name": "LayoutModel",
          "model_module_version": "1.2.0",
          "state": {
            "_model_module": "@jupyter-widgets/base",
            "_model_module_version": "1.2.0",
            "_model_name": "LayoutModel",
            "_view_count": null,
            "_view_module": "@jupyter-widgets/base",
            "_view_module_version": "1.2.0",
            "_view_name": "LayoutView",
            "align_content": null,
            "align_items": null,
            "align_self": null,
            "border": null,
            "bottom": null,
            "display": null,
            "flex": null,
            "flex_flow": null,
            "grid_area": null,
            "grid_auto_columns": null,
            "grid_auto_flow": null,
            "grid_auto_rows": null,
            "grid_column": null,
            "grid_gap": null,
            "grid_row": null,
            "grid_template_areas": null,
            "grid_template_columns": null,
            "grid_template_rows": null,
            "height": null,
            "justify_content": null,
            "justify_items": null,
            "left": null,
            "margin": null,
            "max_height": null,
            "max_width": null,
            "min_height": null,
            "min_width": null,
            "object_fit": null,
            "object_position": null,
            "order": null,
            "overflow": null,
            "overflow_x": null,
            "overflow_y": null,
            "padding": null,
            "right": null,
            "top": null,
            "visibility": null,
            "width": null
          }
        },
        "5003df85abd14b2789ded5399bba45f7": {
          "model_module": "@jupyter-widgets/controls",
          "model_name": "DescriptionStyleModel",
          "model_module_version": "1.5.0",
          "state": {
            "_model_module": "@jupyter-widgets/controls",
            "_model_module_version": "1.5.0",
            "_model_name": "DescriptionStyleModel",
            "_view_count": null,
            "_view_module": "@jupyter-widgets/base",
            "_view_module_version": "1.2.0",
            "_view_name": "StyleView",
            "description_width": ""
          }
        }
      }
    }
  },
  "cells": [
    {
      "cell_type": "markdown",
      "metadata": {
        "id": "view-in-github",
        "colab_type": "text"
      },
      "source": [
        "<a href=\"https://colab.research.google.com/github/daniel-mueller92/llm_mail_classifier/blob/main/llm_mail_classifier_Llama2-7b.ipynb\" target=\"_parent\"><img src=\"https://colab.research.google.com/assets/colab-badge.svg\" alt=\"Open In Colab\"/></a>"
      ]
    },
    {
      "cell_type": "code",
      "source": [
        "!CMAKE_ARGS=\"-DLLAMA_CUBLAS=on\" pip install llama-cpp-python\n",
        "!pip install huggingface_hub"
      ],
      "metadata": {
        "colab": {
          "base_uri": "https://localhost:8080/"
        },
        "id": "FYNb_DIGPm0d",
        "outputId": "0743264f-da51-4e26-a9fb-4a18c4474fea"
      },
      "execution_count": 10,
      "outputs": [
        {
          "output_type": "stream",
          "name": "stdout",
          "text": [
            "Requirement already satisfied: llama-cpp-python in /usr/local/lib/python3.10/dist-packages (0.2.24)\n",
            "Requirement already satisfied: typing-extensions>=4.5.0 in /usr/local/lib/python3.10/dist-packages (from llama-cpp-python) (4.5.0)\n",
            "Requirement already satisfied: numpy>=1.20.0 in /usr/local/lib/python3.10/dist-packages (from llama-cpp-python) (1.23.5)\n",
            "Requirement already satisfied: diskcache>=5.6.1 in /usr/local/lib/python3.10/dist-packages (from llama-cpp-python) (5.6.3)\n",
            "Requirement already satisfied: huggingface_hub in /usr/local/lib/python3.10/dist-packages (0.19.4)\n",
            "Requirement already satisfied: filelock in /usr/local/lib/python3.10/dist-packages (from huggingface_hub) (3.13.1)\n",
            "Requirement already satisfied: fsspec>=2023.5.0 in /usr/local/lib/python3.10/dist-packages (from huggingface_hub) (2023.6.0)\n",
            "Requirement already satisfied: requests in /usr/local/lib/python3.10/dist-packages (from huggingface_hub) (2.31.0)\n",
            "Requirement already satisfied: tqdm>=4.42.1 in /usr/local/lib/python3.10/dist-packages (from huggingface_hub) (4.66.1)\n",
            "Requirement already satisfied: pyyaml>=5.1 in /usr/local/lib/python3.10/dist-packages (from huggingface_hub) (6.0.1)\n",
            "Requirement already satisfied: typing-extensions>=3.7.4.3 in /usr/local/lib/python3.10/dist-packages (from huggingface_hub) (4.5.0)\n",
            "Requirement already satisfied: packaging>=20.9 in /usr/local/lib/python3.10/dist-packages (from huggingface_hub) (23.2)\n",
            "Requirement already satisfied: charset-normalizer<4,>=2 in /usr/local/lib/python3.10/dist-packages (from requests->huggingface_hub) (3.3.2)\n",
            "Requirement already satisfied: idna<4,>=2.5 in /usr/local/lib/python3.10/dist-packages (from requests->huggingface_hub) (3.6)\n",
            "Requirement already satisfied: urllib3<3,>=1.21.1 in /usr/local/lib/python3.10/dist-packages (from requests->huggingface_hub) (2.0.7)\n",
            "Requirement already satisfied: certifi>=2017.4.17 in /usr/local/lib/python3.10/dist-packages (from requests->huggingface_hub) (2023.11.17)\n"
          ]
        }
      ]
    },
    {
      "cell_type": "code",
      "source": [
        "from google.colab import drive\n",
        "drive.mount('/content/drive')"
      ],
      "metadata": {
        "colab": {
          "base_uri": "https://localhost:8080/"
        },
        "id": "X5wJt379HIEJ",
        "outputId": "13f4b361-49b0-4185-f06a-d878cebe00b0"
      },
      "execution_count": 12,
      "outputs": [
        {
          "output_type": "stream",
          "name": "stdout",
          "text": [
            "Drive already mounted at /content/drive; to attempt to forcibly remount, call drive.mount(\"/content/drive\", force_remount=True).\n"
          ]
        }
      ]
    },
    {
      "cell_type": "code",
      "source": [
        "import pandas as pd\n",
        "import numpy as np\n",
        "\n",
        "import re\n",
        "import json\n",
        "import os\n",
        "\n",
        "# dont do this at home\n",
        "import warnings\n",
        "warnings.filterwarnings(\"ignore\")"
      ],
      "metadata": {
        "id": "mf0uygdyHL8H"
      },
      "execution_count": 13,
      "outputs": []
    },
    {
      "cell_type": "code",
      "source": [
        "df = pd.read_excel('/content/drive/MyDrive/dataset_anonymized.xlsx')"
      ],
      "metadata": {
        "id": "X30HawXnHMp2"
      },
      "execution_count": 14,
      "outputs": []
    },
    {
      "cell_type": "code",
      "source": [
        "def generate_prompt(df, idx, step=1):\n",
        "\n",
        "    file_content = df[\"txt\"][idx]\n",
        "\n",
        "    task1 = \"\"\"Bitte extrahiere folgende Informationen aus dem Dokument:\n",
        "    1. Um welche Kategorie von Dokument handelt es sich? Die Auswahlmöglichkeiten sind \"Deckungszusage\", \"Deckungsablehnung\", \"Nachfrage\" oder \"Kostensache\". Bei einer\n",
        "    Deckungszusage, erklärt die Versicherung, sie wird die zukünftigen Kosten des Falls übernehmen - bei einer Deckungszusage verneint sie das. Bei einer Nachfrage\n",
        "    möchte die Versicherung mehr Informationen von der Kanzlei. Eine Kostensache liegt nur vor, wenn die Versicherung erklärt, sie hat bereits Kosten bezahlt.\n",
        "    2. Wie lautet das Aktenzeichen der Kanzlei?\n",
        "    3. Wie lautet der Name des Mandanten?\n",
        "    4. Wie lautet die Schadensnummer des Versicherungsfalls?\n",
        "    Wenn du einen Wert nicht findest, schreibe \"None\".\n",
        "\n",
        "    Bitte formatiere deine Antwort als json-Datei wie folgt:\n",
        "    {\n",
        "        \"aktenzeichen\" : {extrahiertes Aktenzeichen},\n",
        "        \"name\" : {extrahierter Name},\n",
        "        \"schadensnummer\" : {extrahierte Schadensnummer},\n",
        "        \"kategorie\" : {extrahierte Kategorie: Deckungszusage - Deckungsablehnung - Nachfrage - Kosten}\n",
        "    }\"\"\"\n",
        "\n",
        "    task_dz = \"\"\"Bitte extrahiere folgende Informationen aus der Deckungszusage.\n",
        "    Auf welche Instanz bezieht sich die Deckungszusage? Zur Auswahl steht das außergerichtliche Verfahren, das gerichtliche Verfahren der ersten Instanz und das\n",
        "    Berufungsverfahren (2. Instanz).\n",
        "    Was ist der Betrag der Selbstbeteiligung der Deckungszusage? Wenn keine Selbstbeteiligung erwähnt ist, antworte mit 0.\n",
        "\n",
        "    Bitte formatiere deine Antwort als json-Datei wie folgt:\n",
        "    {\n",
        "        \"außergerichtlich\" : true/false,\n",
        "        \"gerichtlich\" : true/false,\n",
        "        \"berufung\" : true/false,\n",
        "        \"selbstbeteiligung\" : {extrahierter Betrag}\n",
        "    }\n",
        "    \"\"\"\n",
        "\n",
        "    task_nachfrage = \"\"\"1. Welche Nachfragegründe kannst du in der Nachfrage finden? Fragt die Rechtsschutzversicherung nach dem Sachstand? Fragt Sie nach der Klage?\n",
        "    Fragt Sie nach dem Anspruchsschreiben? Erinnert Sie an ein vorheriges Schreiben? Fragt Sie nach sonstigen Fragen?\n",
        "\n",
        "    2. Bitte füge alle gefundenen Antworten zu einer Liste zusammen.\n",
        "\n",
        "    3. Bitte formatiere deine Antwort im json-Format wie folgt:\n",
        "    {\n",
        "        \"Nachfragen\" : [Liste der gefundenen Nachfragegründe: \"Sachstand\", \"Klage\", \"Anspruchschreiben\", \"Erinnerung\", \"Sonstiges\"]\n",
        "    }\n",
        "    \"\"\"\n",
        "\n",
        "    if step == 1:\n",
        "        prompt = file_content + \"-Ende der Nachricht-\\n\" + task1\n",
        "    elif step == 2 and df[\"Typ\"][idx] == \"Deckungszusage\":\n",
        "        prompt = file_content + \"-Ende der Deckungszusage-\\n\" + task_dz\n",
        "    elif step == 2 and df[\"Typ\"][idx] == \"Nachfrage\":\n",
        "        prompt = file_content + \"-Ende der Nachfrage-\\n\" + task_nachfrage\n",
        "\n",
        "    return prompt\n",
        "\n",
        "def send_request(prompt):\n",
        "    response = llm.create_chat_completion(\n",
        "      messages = [\n",
        "          {\"role\": \"system\", \"content\": \"Du bist ein hilfreicher Assistent.\"},\n",
        "          {\n",
        "              \"role\": \"user\",\n",
        "              \"content\": prompt\n",
        "          }\n",
        "      ],\n",
        "      max_tokens=2048,\n",
        "      temperature=0.2,\n",
        "    )\n",
        "    return response\n",
        "\n",
        "#convert response and save dict to df\n",
        "def save_response(response, idx, step):\n",
        "    column_name = f'response_{step}_{model}'\n",
        "    if column_name not in df.columns:\n",
        "        df[column_name] = None\n",
        "\n",
        "    # llama and mistral\n",
        "    if model == \"llama-13b\" or model == \"mistral-7b\" or model == \"llama-7b\":\n",
        "        try:\n",
        "            response_text = response['choices'][0]['message']['content'].strip()\n",
        "            reponse_json  = extract_json(response_text)\n",
        "\n",
        "            response_dict = json.loads(reponse_json)\n",
        "            df[column_name][idx] = response_dict\n",
        "\n",
        "            if len(response_dict) > 4:\n",
        "                print(\"Unexpected number of arguments in dict!\")\n",
        "            else:\n",
        "                for key, value in response_dict.items():\n",
        "                    if f'{key}_{model}' not in df.columns:\n",
        "                        df[f'{key}_{model}'] = ''\n",
        "                    df.at[idx, f'{key}_{model}'] = value\n",
        "\n",
        "        except:\n",
        "            df[column_name][idx] = response_text\n",
        "            print(\"Antwort konnte nicht zu json formatiert werden\")\n",
        "\n",
        "\n",
        "\n",
        "def extract_json(string):\n",
        "    # Define a regular expression pattern to match JSON\n",
        "    pattern = r'\\{(.|\\n)*\\}'\n",
        "\n",
        "    # Find the JSON part using regex\n",
        "    json_match = re.search(pattern, string)\n",
        "\n",
        "    if json_match:\n",
        "        extracted_json = json_match.group()\n",
        "        #print(extracted_json)\n",
        "    else:\n",
        "        extracted_json = \"No JSON found\"\n",
        "        #print(\"No JSON part found in the string.\")\n",
        "\n",
        "    return extracted_json"
      ],
      "metadata": {
        "id": "mIcMoTpVHW9B"
      },
      "execution_count": 15,
      "outputs": []
    },
    {
      "cell_type": "code",
      "source": [
        "# Imports\n",
        "from llama_cpp import Llama\n",
        "from huggingface_hub import hf_hub_download"
      ],
      "metadata": {
        "id": "LkRGzankQ8Vw"
      },
      "execution_count": 16,
      "outputs": []
    },
    {
      "cell_type": "code",
      "source": [
        "#modelpath=hf_hub_download(repo_id='TheBloke/em_german_mistral_v01-GGUF', filename=\"em_german_mistral_v01.Q8_0.gguf\")\n",
        "#modelpath=hf_hub_download(repo_id='TheBloke/Llama-2-13B-chat-GGUF', filename=\"llama-2-13b-chat.Q5_K_M.gguf\")\n",
        "modelpath=hf_hub_download(repo_id='TheBloke/Llama-2-7B-Chat-GGUF', filename=\"llama-2-7b-chat.Q5_K_M.gguf\")"
      ],
      "metadata": {
        "id": "yUMldzTCRBLf",
        "colab": {
          "base_uri": "https://localhost:8080/",
          "height": 49,
          "referenced_widgets": [
            "4e494c74c6f44f3f972846680ecc8086",
            "e2b29065a9cf4a3a9dd8a6907e7da7ae",
            "5b0f572c2bf241399a67c186b02b9eaa",
            "128d2945dfaa42959b4ae2b0098a25b2",
            "ade8bda9939247acb5759a120f434b17",
            "f3bfdc35f4cb4da6a5876e68dc136b6b",
            "dda6b0a0089b4b57a10961b3b448010f",
            "5f5a2a8293654ad59d302d9ceb238872",
            "ec5b4ae2c9244e6cb558c36a32f73aad",
            "0a98b884793a402a8c140f3d19ac2ba8",
            "5003df85abd14b2789ded5399bba45f7"
          ]
        },
        "outputId": "fec399be-d234-4d7c-e6bf-98013f8299bd"
      },
      "execution_count": 7,
      "outputs": [
        {
          "output_type": "display_data",
          "data": {
            "text/plain": [
              "llama-2-7b-chat.Q5_K_M.gguf:   0%|          | 0.00/4.78G [00:00<?, ?B/s]"
            ],
            "application/vnd.jupyter.widget-view+json": {
              "version_major": 2,
              "version_minor": 0,
              "model_id": "4e494c74c6f44f3f972846680ecc8086"
            }
          },
          "metadata": {}
        }
      ]
    },
    {
      "cell_type": "code",
      "source": [
        "llm = Llama(\n",
        "      model_path=modelpath,\n",
        "      n_ctx=2048,\n",
        "      n_batch=1024,\n",
        "      n_gpu_layers=-1,\n",
        "      #verbose=False\n",
        "      chat_format=\"llama-2\"\n",
        "      )"
      ],
      "metadata": {
        "colab": {
          "base_uri": "https://localhost:8080/"
        },
        "id": "3yJm5uE3RIZR",
        "outputId": "317465d1-8998-44f0-9ce4-b48afd0bacaf"
      },
      "execution_count": 8,
      "outputs": [
        {
          "output_type": "stream",
          "name": "stderr",
          "text": [
            "AVX = 1 | AVX2 = 1 | AVX512 = 1 | AVX512_VBMI = 0 | AVX512_VNNI = 0 | FMA = 1 | NEON = 0 | ARM_FMA = 0 | F16C = 1 | FP16_VA = 0 | WASM_SIMD = 0 | BLAS = 1 | SSE3 = 1 | SSSE3 = 1 | VSX = 0 | \n"
          ]
        }
      ]
    },
    {
      "cell_type": "code",
      "source": [
        "# workflow for llama-7b\n",
        "\n",
        "model = \"llama-7b\"\n",
        "\n",
        "for idx, row in df.iterrows():\n",
        "\n",
        "    # first prompt/step\n",
        "    prompt = generate_prompt(df, idx, step=1)\n",
        "    response = send_request(prompt)\n",
        "\n",
        "    print(response['choices'][0]['message']['content'])\n",
        "\n",
        "    # write code to extract json only\n",
        "    # and add it here\n",
        "    save_response(response, idx, step=1)\n",
        "\n",
        "    # second prompt/step only for \"Deckungszusage\" and \"Nachfrage\"\n",
        "    if df[\"Typ\"][idx] == \"Deckungszusage\" or df[\"Typ\"][idx] == \"Nachfrage\":\n",
        "        prompt2 = generate_prompt(df, idx, step=2)\n",
        "        response2 = send_request(prompt2)\n",
        "        # check if json only was returned\n",
        "        save_response(response2, idx, step=2)\n",
        "\n",
        "    print(f\"Successfully processed entry {idx +1} of {df.shape[0]}\")\n",
        "    df.to_excel('/content/drive/MyDrive/results_llama-7b.xlsx')\n",
        "\n",
        "print(\"All done :)\")"
      ],
      "metadata": {
        "colab": {
          "base_uri": "https://localhost:8080/"
        },
        "id": "iA18CAa3KJ9I",
        "outputId": "d3b5c79f-eac5-4b66-9276-67c1a819b418"
      },
      "execution_count": 9,
      "outputs": [
        {
          "output_type": "stream",
          "name": "stdout",
          "text": [
            "  {\n",
            "    \"aktenzeichen\" : \"S-21-03384164\",\n",
            "    \"name\" : \"Denver Pearson\",\n",
            "    \"schadensnummer\" : \"S-21-03384164\",\n",
            "    \"kategorie\" : \"Deckungszusage\"\n",
            "}\n"
          ]
        },
        {
          "output_type": "stream",
          "name": "stderr",
          "text": [
            "Llama.generate: prefix-match hit\n"
          ]
        },
        {
          "output_type": "stream",
          "name": "stdout",
          "text": [
            "Successfully processed entry 1 of 100\n"
          ]
        },
        {
          "output_type": "stream",
          "name": "stderr",
          "text": [
            "Llama.generate: prefix-match hit\n"
          ]
        },
        {
          "output_type": "stream",
          "name": "stdout",
          "text": [
            "  {\n",
            "    \"aktenzeichen\" : \"AKW-972BR5C-10962-10972-Wong\",\n",
            "    \"name\" : \"Kairi Wong\",\n",
            "    \"schadensnummer\" : \"2022045323\",\n",
            "    \"kategorie\" : \"Deckungszusage\"\n",
            "}\n",
            "Successfully processed entry 2 of 100\n"
          ]
        },
        {
          "output_type": "stream",
          "name": "stderr",
          "text": [
            "Llama.generate: prefix-match hit\n"
          ]
        },
        {
          "output_type": "stream",
          "name": "stdout",
          "text": [
            "  Sure, I'd be happy to help you extract the information from the document! Here are the answers to your questions:\n",
            "{\n",
            "\"aktenzeichen\" : \"4435/19\",\n",
            "\"name\" : \"Lochlan Wallace\",\n",
            "\"schadensnummer\" : \"018732518-002303569-09353\",\n",
            "\"kategorie\" : \"Deckungszusage\"\n",
            "}\n",
            "\n",
            "I hope this helps! Let me know if you have any other questions.\n",
            "Successfully processed entry 3 of 100\n"
          ]
        },
        {
          "output_type": "stream",
          "name": "stderr",
          "text": [
            "Llama.generate: prefix-match hit\n"
          ]
        },
        {
          "output_type": "stream",
          "name": "stdout",
          "text": [
            "  Sure, I'd be happy to help you extract the information from the document! Here is the JSON response based on the provided document:\n",
            "{\n",
            "\"aktenzeichen\" : \"AKW-444W5M P-5010-5010-Koauratzi\",\n",
            "\"name\" : \"Haley, Porter / BMW Financial Service (Leasing)\",\n",
            "\"schadensnummer\" : \"306/20-248508/M\",\n",
            "\"kategorie\" : \"Deckungszusage\"\n",
            "}\n",
            "Please let me know if you need any further assistance!\n"
          ]
        },
        {
          "output_type": "stream",
          "name": "stderr",
          "text": [
            "Llama.generate: prefix-match hit\n"
          ]
        },
        {
          "output_type": "stream",
          "name": "stdout",
          "text": [
            "Antwort konnte nicht zu json formatiert werden\n",
            "Successfully processed entry 4 of 100\n"
          ]
        },
        {
          "output_type": "stream",
          "name": "stderr",
          "text": [
            "Llama.generate: prefix-match hit\n"
          ]
        },
        {
          "output_type": "stream",
          "name": "stdout",
          "text": [
            "  Sure, I'd be happy to help you extract the information from the document! Here are the answers to your questions:\n",
            "1. The category of the document is \"Deckungszusage\".\n",
            "2. The Aktenzeichen (file number) of the kanzlei is AS2022-50332145.\n",
            "3. The name of the mandatary (client) is Frau Rylie Ellis.\n",
            "4. The Schadensnummer (claim number) of the insurance case is 11674-11684.\n",
            "\n",
            "So, the answers to your questions are:\n",
            "{\n",
            "\"aktenzeichen\" : \"AS2022-50332145\",\n",
            "\"name\" : \"Frau Rylie Ellis\",\n",
            "\"schadensnummer\" : \"11674-11684\",\n",
            "\"kategorie\" : \"Deckungszusage\"\n",
            "}\n"
          ]
        },
        {
          "output_type": "stream",
          "name": "stderr",
          "text": [
            "Llama.generate: prefix-match hit\n"
          ]
        },
        {
          "output_type": "stream",
          "name": "stdout",
          "text": [
            "Antwort konnte nicht zu json formatiert werden\n",
            "Successfully processed entry 5 of 100\n"
          ]
        },
        {
          "output_type": "stream",
          "name": "stderr",
          "text": [
            "Llama.generate: prefix-match hit\n"
          ]
        },
        {
          "output_type": "stream",
          "name": "stdout",
          "text": [
            "  {\n",
            "    \"aktenzeichen\" : \"18843\",\n",
            "    \"name\" : \"Aya Little\",\n",
            "    \"schadensnummer\" : \"6-19-001912\",\n",
            "    \"kategorie\" : \"Deckungszusage\"\n",
            "}\n",
            "Successfully processed entry 6 of 100\n"
          ]
        },
        {
          "output_type": "stream",
          "name": "stderr",
          "text": [
            "Llama.generate: prefix-match hit\n"
          ]
        },
        {
          "output_type": "stream",
          "name": "stdout",
          "text": [
            "  Sure, I'd be happy to help you extract the information from the document! Here are the answers to your questions:\n",
            "{\n",
            "\"aktenzeichen\" : \"5075/19\",\n",
            "\"name\" : \"Allie Blackwell\",\n",
            "\"schadensnummer\" : \"S-19-02976010\",\n",
            "\"kategorie\" : \"Deckungszusage\"\n",
            "}\n",
            "\n",
            "The document is a letter from ROLAND Rechtsschutz-Versicherungs-AG to the Kanzlei (law firm) regarding a legal case involving their client Allie Blackwell. The letter requests information on the current status of the case and whether they can expect a cost refund in the near future.\n",
            "The document contains the following information:\n",
            "* Aktenzeichen (file number): 5075/19\n",
            "* Name of the mandatee (client): Allie Blackwell\n",
            "* Schadensnummer (damage number): S-19-02976010\n",
            "* Category of the document: Deckungszusage (meaning the insurance company is agreeing to cover future costs)\n",
            "\n",
            "I hope this helps! Let me know if you have any other questions.\n"
          ]
        },
        {
          "output_type": "stream",
          "name": "stderr",
          "text": [
            "Llama.generate: prefix-match hit\n"
          ]
        },
        {
          "output_type": "stream",
          "name": "stdout",
          "text": [
            "Antwort konnte nicht zu json formatiert werden\n",
            "Successfully processed entry 7 of 100\n"
          ]
        },
        {
          "output_type": "stream",
          "name": "stderr",
          "text": [
            "Llama.generate: prefix-match hit\n"
          ]
        },
        {
          "output_type": "stream",
          "name": "stdout",
          "text": [
            "  Sure, I'd be happy to help you extract the information from the document! Here is the JSON response based on the provided document:\n",
            "{\n",
            "\"aktenzeichen\" : \"Degenhart./.Honda Bank GmbH\",\n",
            "\"name\" : \"Sehr geehrte Damen und Herren Rechtsanwälte\",\n",
            "\"schadensnummer\" : \"75-3904232-56\",\n",
            "\"kategorie\" : \"Deckungszusage\"\n",
            "}\n",
            "The extracted information is:\n",
            "* Aktenzeichen: Degenhart./.Honda Bank GmbH\n",
            "* Name: Sehr geehrte Damen und Herren Rechtsanwälte\n",
            "* Schadensnummer: 75-3904232-56\n",
            "* Kategorie: Deckungszusage (the insurance company is agreeing to cover future costs)\n",
            "Successfully processed entry 8 of 100\n"
          ]
        },
        {
          "output_type": "stream",
          "name": "stderr",
          "text": [
            "Llama.generate: prefix-match hit\n"
          ]
        },
        {
          "output_type": "stream",
          "name": "stdout",
          "text": [
            "  {\n",
            "    \"aktenzeichen\" : \"MOB-3M8WAGF-71827-76\",\n",
            "    \"name\" : \"Sariyah Melendez\",\n",
            "    \"schadensnummer\" : \"047374880/020\",\n",
            "    \"kategorie\" : \"Deckungszusage\"\n",
            "Antwort konnte nicht zu json formatiert werden\n",
            "Successfully processed entry 9 of 100\n"
          ]
        },
        {
          "output_type": "stream",
          "name": "stderr",
          "text": [
            "Llama.generate: prefix-match hit\n"
          ]
        },
        {
          "output_type": "stream",
          "name": "stdout",
          "text": [
            "  {\n",
            "    \"aktenzeichen\" : \"MOB-SGT6FAF-71775-76824\",\n",
            "    \"name\" : \"Yasmin Joseph\",\n",
            "    \"schadensnummer\" : \"31 0121 1008 2815\",\n",
            "    \"kategorie\" : \"Deckungszusage\"\n",
            "}\n",
            "Successfully processed entry 10 of 100\n"
          ]
        },
        {
          "output_type": "stream",
          "name": "stderr",
          "text": [
            "Llama.generate: prefix-match hit\n"
          ]
        },
        {
          "output_type": "stream",
          "name": "stdout",
          "text": [
            "  {\n",
            "    \"aktenzeichen\" : MOB-8Z1PP3F71333-763,\n",
            "    \"name\" : Israel Weeks,\n",
            "    \"schadensnummer\" : None,\n",
            "    \"kategorie\" : Deckungszusage\n",
            "Antwort konnte nicht zu json formatiert werden\n",
            "Successfully processed entry 11 of 100\n"
          ]
        },
        {
          "output_type": "stream",
          "name": "stderr",
          "text": [
            "Llama.generate: prefix-match hit\n"
          ]
        },
        {
          "output_type": "stream",
          "name": "stdout",
          "text": [
            "  {\n",
            "    \"aktenzeichen\" : \"ARAG Rechtsschutz Schaden-Nummer 31 0123 1700 7558\",\n",
            "    \"name\" : \"Ben Hensley\",\n",
            "    \"schadensnummer\" : \"14.12.2017\",\n",
            "    \"kategorie\" : \"Deckungszusage\"\n",
            "}\n",
            "Successfully processed entry 12 of 100\n"
          ]
        },
        {
          "output_type": "stream",
          "name": "stderr",
          "text": [
            "Llama.generate: prefix-match hit\n"
          ]
        },
        {
          "output_type": "stream",
          "name": "stdout",
          "text": [
            "  {\n",
            "    \"aktenzeichen\" : \"29TECD\",\n",
            "    \"name\" : \"Herr Charley House\",\n",
            "    \"schadensnummer\" : \"300011838500004V\",\n",
            "    \"kategorie\" : \"Deckungszusage\"\n",
            "}\n",
            "Successfully processed entry 13 of 100\n"
          ]
        },
        {
          "output_type": "stream",
          "name": "stderr",
          "text": [
            "Llama.generate: prefix-match hit\n"
          ]
        },
        {
          "output_type": "stream",
          "name": "stdout",
          "text": [
            "  {\n",
            "    \"aktenzeichen\" : \"2023um-64.699-69508\",\n",
            "    \"name\" : \"Sehr geehrte Damen und Herren\",\n",
            "    \"schadensnummer\" : \"313/23-288614/P\",\n",
            "    \"kategorie\" : \"Deckungszusage\"\n",
            "}\n",
            "Successfully processed entry 14 of 100\n"
          ]
        },
        {
          "output_type": "stream",
          "name": "stderr",
          "text": [
            "Llama.generate: prefix-match hit\n"
          ]
        },
        {
          "output_type": "stream",
          "name": "stdout",
          "text": [
            "  Sure, I'd be happy to help you extract the information from the document! Here are the answers to your questions:\n",
            "{\n",
            "\"aktenzeichen\" : \"AS2020-81386277\",\n",
            "\"name\" : \"Frau Maier\",\n",
            "\"schadensnummer\" : \"8Ichdw-46562-51303-Praml\",\n",
            "\"kategorie\" : \"Deckungszusage\"\n",
            "}\n",
            "Successfully processed entry 15 of 100\n"
          ]
        },
        {
          "output_type": "stream",
          "name": "stderr",
          "text": [
            "Llama.generate: prefix-match hit\n"
          ]
        },
        {
          "output_type": "stream",
          "name": "stdout",
          "text": [
            "  {\n",
            "    \"aktenzeichen\" : \"MOB-SRCHTPF-71715-76764\",\n",
            "    \"name\" : \"Riley Ramsey\",\n",
            "    \"schadensnummer\" : \"31 0121 1489 5427\",\n",
            "    \"kategorie\" : \"Deckungszusage\"\n",
            "}\n",
            "Successfully processed entry 16 of 100\n"
          ]
        },
        {
          "output_type": "stream",
          "name": "stderr",
          "text": [
            "Llama.generate: prefix-match hit\n"
          ]
        },
        {
          "output_type": "stream",
          "name": "stdout",
          "text": [
            "  {\n",
            "    \"aktenzeichen\" : \"91zv4r-48237-52\",\n",
            "    \"name\" : \"Brendan Ibarra\",\n",
            "    \"schadensnummer\" : \"2020.99.28.34629.6\",\n",
            "    \"kategorie\" : \"Deckungszusage\"\n",
            "Antwort konnte nicht zu json formatiert werden\n",
            "Successfully processed entry 17 of 100\n"
          ]
        },
        {
          "output_type": "stream",
          "name": "stderr",
          "text": [
            "Llama.generate: prefix-match hit\n"
          ]
        },
        {
          "output_type": "stream",
          "name": "stdout",
          "text": [
            "  {\n",
            "    \"aktenzeichen\" : MOB-RPF6UCD-69906-74948,\n",
            "    \"name\" : None,\n",
            "    \"schadensnummer\" : 223912662,\n",
            "    \"kategorie\" : Deckungszusage\n",
            "Antwort konnte nicht zu json formatiert werden\n",
            "Successfully processed entry 18 of 100\n"
          ]
        },
        {
          "output_type": "stream",
          "name": "stderr",
          "text": [
            "Llama.generate: prefix-match hit\n"
          ]
        },
        {
          "output_type": "stream",
          "name": "stdout",
          "text": [
            "  Sure, I'd be happy to help you extract the information from the document! Here is the JSON response based on the information provided in the document:\n",
            "{\n",
            "    \"aktenzeichen\" : \"82eluf-38938-43670\",\n",
            "    \"name\" : \"Rylan Flynn\",\n",
            "    \"schadensnummer\" : \"2020103326\",\n",
            "    \"kategorie\" : \"Deckungszusage\"\n",
            "}\n",
            "The extracted information is:\n",
            "* Aktenzeichen (file number): 82eluf-38938-43670\n",
            "* Name of the mandatee (policyholder): Rylan Flynn\n",
            "* Schadensnummer (claim number): 2020103326\n",
            "* Category of document: Deckungszusage (the insurance company is agreeing to cover future costs)\n",
            "Successfully processed entry 19 of 100\n"
          ]
        },
        {
          "output_type": "stream",
          "name": "stderr",
          "text": [
            "Llama.generate: prefix-match hit\n"
          ]
        },
        {
          "output_type": "stream",
          "name": "stdout",
          "text": [
            "  Sure, I'd be happy to help you extract the information from the document! Here are the answers to your questions:\n",
            "{\n",
            "\"aktenzeichen\" : \"9x8wbr-37116-41830-Villanueva\",\n",
            "\"name\" : \"Scarlette Villanueva\",\n",
            "\"schadensnummer\" : \"2020076005\",\n",
            "\"kategorie\" : \"Deckungszusage\"\n",
            "}\n",
            "The document is a notification from an insurance company to the client, informing them that they will be covering the costs of a damage claim (Kategorie: Deckungszusage). The notice includes the case number and the name of the client.\n",
            "Successfully processed entry 20 of 100\n"
          ]
        },
        {
          "output_type": "stream",
          "name": "stderr",
          "text": [
            "Llama.generate: prefix-match hit\n"
          ]
        },
        {
          "output_type": "stream",
          "name": "stdout",
          "text": [
            "  Sure, I'd be happy to help you with that! Based on the information provided in the message, here is the extracted data in JSON format:\n",
            "{\n",
            "\"aktenzeichen\" : \"1358/20\",\n",
            "\"name\" : \"Jovanni Le\",\n",
            "\"schadensnummer\" : \"2206-053.424.5-317\",\n",
            "\"kategorie\" : \"Deckungszusage\"\n",
            "}\n",
            "I hope this helps! Let me know if you have any further questions or if there's anything else I can help you with.\n"
          ]
        },
        {
          "output_type": "stream",
          "name": "stderr",
          "text": [
            "Llama.generate: prefix-match hit\n"
          ]
        },
        {
          "output_type": "stream",
          "name": "stdout",
          "text": [
            "Antwort konnte nicht zu json formatiert werden\n",
            "Successfully processed entry 21 of 100\n"
          ]
        },
        {
          "output_type": "stream",
          "name": "stderr",
          "text": [
            "Llama.generate: prefix-match hit\n"
          ]
        },
        {
          "output_type": "stream",
          "name": "stdout",
          "text": [
            "  Sure, I'd be happy to help you extract the information from the document! Here are the answers to your questions:\n",
            "{\n",
            "\"aktenzeichen\" : \"4214/20\",\n",
            "\"name\" : \"Malaya Guzman\",\n",
            "\"schadensnummer\" : \"301-RS-20-072860-9\",\n",
            "\"kategorie\" : \"Deckungszusage\"\n",
            "}\n",
            "\n",
            "I hope this helps! Let me know if you have any other questions.\n"
          ]
        },
        {
          "output_type": "stream",
          "name": "stderr",
          "text": [
            "Llama.generate: prefix-match hit\n"
          ]
        },
        {
          "output_type": "stream",
          "name": "stdout",
          "text": [
            "Successfully processed entry 22 of 100\n"
          ]
        },
        {
          "output_type": "stream",
          "name": "stderr",
          "text": [
            "Llama.generate: prefix-match hit\n"
          ]
        },
        {
          "output_type": "stream",
          "name": "stdout",
          "text": [
            "  {\n",
            "    \"aktenzeichen\" : \"MOB-7MWBGKF-715\",\n",
            "    \"name\" : \"Naya Wyatt\",\n",
            "    \"schadensnummer\" : \"2023.99.28.69177.1\",\n",
            "    \"kategorie\" : \"Deckungszusage\"\n",
            "Antwort konnte nicht zu json formatiert werden\n",
            "Successfully processed entry 23 of 100\n"
          ]
        },
        {
          "output_type": "stream",
          "name": "stderr",
          "text": [
            "Llama.generate: prefix-match hit\n"
          ]
        },
        {
          "output_type": "stream",
          "name": "stdout",
          "text": [
            "  {\n",
            "    \"aktenzeichen\" : \"ASD-123123\",\n",
            "    \"name\" : \"Rosalee McCall\",\n",
            "    \"schadensnummer\" : \"355558150/005\",\n",
            "    \"kategorie\" : \"Deckungszusage\"\n",
            "}\n",
            "Successfully processed entry 24 of 100\n"
          ]
        },
        {
          "output_type": "stream",
          "name": "stderr",
          "text": [
            "Llama.generate: prefix-match hit\n"
          ]
        },
        {
          "output_type": "stream",
          "name": "stdout",
          "text": [
            "  {\n",
            "    \"aktenzeichen\" : \"223918218\",\n",
            "    \"name\" : \"Sam Leal\",\n",
            "    \"schadensnummer\" : \"223918218\",\n",
            "    \"kategorie\" : \"Deckungszusage\"\n",
            "}\n",
            "Successfully processed entry 25 of 100\n"
          ]
        },
        {
          "output_type": "stream",
          "name": "stderr",
          "text": [
            "Llama.generate: prefix-match hit\n"
          ]
        },
        {
          "output_type": "stream",
          "name": "stdout",
          "text": [
            "  {\n",
            "    \"aktenzeichen\" : \"TL-88B8NNF-14467\",\n",
            "    \"name\" : \"Nalani Turner\",\n",
            "    \"schadensnummer\" : \"31 0122 1229 3399\",\n",
            "    \"kategorie\" : \"Deckungszusage\"\n",
            "}\n",
            "Successfully processed entry 26 of 100\n"
          ]
        },
        {
          "output_type": "stream",
          "name": "stderr",
          "text": [
            "Llama.generate: prefix-match hit\n"
          ]
        },
        {
          "output_type": "stream",
          "name": "stdout",
          "text": [
            "  {\n",
            "    \"aktenzeichen\" : \"011780822-001821569-09817\",\n",
            "    \"name\" : \"Callahan Craig\",\n",
            "    \"schadensnummer\" : \"9ayhsl-64549-69358-Craig\",\n",
            "    \"kategorie\" : \"Deckungszusage\"\n",
            "}\n"
          ]
        },
        {
          "output_type": "stream",
          "name": "stderr",
          "text": [
            "Llama.generate: prefix-match hit\n"
          ]
        },
        {
          "output_type": "stream",
          "name": "stdout",
          "text": [
            "Successfully processed entry 27 of 100\n"
          ]
        },
        {
          "output_type": "stream",
          "name": "stderr",
          "text": [
            "Llama.generate: prefix-match hit\n"
          ]
        },
        {
          "output_type": "stream",
          "name": "stdout",
          "text": [
            "  Based on the provided document, here are the extracted information:\n",
            "{\n",
            "    \"aktenzeichen\" : \"VHD18-015679\",\n",
            "    \"name\" : \"Aileen Cameron\",\n",
            "    \"schadensnummer\" : \"2020.99.02.10531.2\",\n",
            "    \"kategorie\" : \"Deckungszusage\"\n",
            "}\n",
            "Please let me know if you need any further assistance.\n"
          ]
        },
        {
          "output_type": "stream",
          "name": "stderr",
          "text": [
            "Llama.generate: prefix-match hit\n"
          ]
        },
        {
          "output_type": "stream",
          "name": "stdout",
          "text": [
            "Successfully processed entry 28 of 100\n"
          ]
        },
        {
          "output_type": "stream",
          "name": "stderr",
          "text": [
            "Llama.generate: prefix-match hit\n"
          ]
        },
        {
          "output_type": "stream",
          "name": "stdout",
          "text": [
            "  {\n",
            "    \"aktenzeichen\" : \"AUS-9RDUYRD-3233\",\n",
            "    \"name\" : \"Maximiliano Cummings\",\n",
            "    \"schadensnummer\" : \"2023337701\",\n",
            "    \"kategorie\" : \"Deckungszusage\"\n",
            "}\n"
          ]
        },
        {
          "output_type": "stream",
          "name": "stderr",
          "text": [
            "Llama.generate: prefix-match hit\n"
          ]
        },
        {
          "output_type": "stream",
          "name": "stdout",
          "text": [
            "Successfully processed entry 29 of 100\n"
          ]
        },
        {
          "output_type": "stream",
          "name": "stderr",
          "text": [
            "Llama.generate: prefix-match hit\n"
          ]
        },
        {
          "output_type": "stream",
          "name": "stdout",
          "text": [
            "  {\n",
            "    \"aktenzeichen\" : \"MOB-ECEUKPD-74844\",\n",
            "    \"name\" : \"Sehr geehrte Damen und Herren\",\n",
            "    \"schadensnummer\" : \"6-23-036800\",\n",
            "    \"kategorie\" : \"Deckungszusage\"\n",
            "}\n",
            "Successfully processed entry 30 of 100\n"
          ]
        },
        {
          "output_type": "stream",
          "name": "stderr",
          "text": [
            "Llama.generate: prefix-match hit\n"
          ]
        },
        {
          "output_type": "stream",
          "name": "stdout",
          "text": [
            "  {\n",
            "    \"aktenzeichen\" : \"AUS-UGZHHFD-2906\",\n",
            "    \"name\" : \"Kaylie Montgomery\",\n",
            "    \"schadensnummer\" : \"2023189044\",\n",
            "    \"kategorie\" : \"Deckungszusage\"\n",
            "}\n"
          ]
        },
        {
          "output_type": "stream",
          "name": "stderr",
          "text": [
            "Llama.generate: prefix-match hit\n"
          ]
        },
        {
          "output_type": "stream",
          "name": "stdout",
          "text": [
            "Antwort konnte nicht zu json formatiert werden\n",
            "Successfully processed entry 31 of 100\n"
          ]
        },
        {
          "output_type": "stream",
          "name": "stderr",
          "text": [
            "Llama.generate: prefix-match hit\n"
          ]
        },
        {
          "output_type": "stream",
          "name": "stdout",
          "text": [
            "  Sure, I'd be happy to help you extract the information from the document! Here are the answers to your questions:\n",
            "{\n",
            "\"aktenzeichen\" : \"3210/19\",\n",
            "\"name\" : \"Rocco Ramos\",\n",
            "\"schadensnummer\" : \"2019423260\",\n",
            "\"kategorie\" : \"Deckungszusage\"\n",
            "}\n",
            "The document is a notification from an insurance company regarding the settlement of costs for a damage case. The insurer has agreed to cover the costs of the damage, as indicated by the \"Deckungszusage\" category. The name of the mandatee is Rocco Ramos, and the damage number is 2019423260.\n",
            "Successfully processed entry 32 of 100\n"
          ]
        },
        {
          "output_type": "stream",
          "name": "stderr",
          "text": [
            "Llama.generate: prefix-match hit\n"
          ]
        },
        {
          "output_type": "stream",
          "name": "stdout",
          "text": [
            "  {\n",
            "    \"aktenzeichen\" : \"20-01-401/138467-B\",\n",
            "    \"name\" : \"Brylee Schmitt\",\n",
            "    \"schadensnummer\" : \"20-01-401/138467-B\",\n",
            "    \"kategorie\" : \"Deckungszusage\"\n",
            "Antwort konnte nicht zu json formatiert werden\n"
          ]
        },
        {
          "output_type": "stream",
          "name": "stderr",
          "text": [
            "Llama.generate: prefix-match hit\n"
          ]
        },
        {
          "output_type": "stream",
          "name": "stdout",
          "text": [
            "Antwort konnte nicht zu json formatiert werden\n",
            "Successfully processed entry 33 of 100\n"
          ]
        },
        {
          "output_type": "stream",
          "name": "stderr",
          "text": [
            "Llama.generate: prefix-match hit\n"
          ]
        },
        {
          "output_type": "stream",
          "name": "stdout",
          "text": [
            "  {\n",
            "    \"aktenzeichen\" : \"21-2024000\",\n",
            "    \"name\" : \"Roth\",\n",
            "    \"schadensnummer\" : \"25.1.2016\",\n",
            "    \"kategorie\" : \"Deckungszusage\"\n",
            "}\n",
            "Successfully processed entry 34 of 100\n"
          ]
        },
        {
          "output_type": "stream",
          "name": "stderr",
          "text": [
            "Llama.generate: prefix-match hit\n"
          ]
        },
        {
          "output_type": "stream",
          "name": "stdout",
          "text": [
            "  {\n",
            "    \"aktenzeichen\" : \"MOB-8Z94Y2-62321-6\",\n",
            "    \"name\" : \"Serenity Bonilla\",\n",
            "    \"schadensnummer\" : \"2236-037.499.1-329\",\n",
            "    \"kategorie\" : \"Deckungszusage\"\n",
            "}\n",
            "Successfully processed entry 35 of 100\n"
          ]
        },
        {
          "output_type": "stream",
          "name": "stderr",
          "text": [
            "Llama.generate: prefix-match hit\n"
          ]
        },
        {
          "output_type": "stream",
          "name": "stdout",
          "text": [
            "  {\n",
            "    \"aktenzeichen\" : \"S-23-04441073\",\n",
            "    \"name\" : \"Esme Kelly\",\n",
            "    \"schadensnummer\" : \"S-23-04441073\",\n",
            "    \"kategorie\" : \"Deckungszusage\"\n",
            "}\n"
          ]
        },
        {
          "output_type": "stream",
          "name": "stderr",
          "text": [
            "Llama.generate: prefix-match hit\n"
          ]
        },
        {
          "output_type": "stream",
          "name": "stdout",
          "text": [
            "Antwort konnte nicht zu json formatiert werden\n",
            "Successfully processed entry 36 of 100\n"
          ]
        },
        {
          "output_type": "stream",
          "name": "stderr",
          "text": [
            "Llama.generate: prefix-match hit\n"
          ]
        },
        {
          "output_type": "stream",
          "name": "stdout",
          "text": [
            "  Sure, I'd be happy to help you extract the information from the document! Here are the answers to your questions:\n",
            "1. The category of the document is \"Deckungszusage\".\n",
            "2. The Aktenzeichen (file number) of the Kanzlei (law firm) is 014999123-004263395-09742.\n",
            "3. The name of the Mandant (policyholder) is Yehuda Juarez.\n",
            "4. The Schadensnummer (claim number) of the Versicherungsfall (insurance claim) is not provided in the document.\n",
            "\n",
            "So, the answers to your questions are:\n",
            "{\n",
            "\"aktenzeichen\" : {014999123-004263395-09742},\n",
            "\"name\" : Yehuda Juarez,\n",
            "\"schadensnummer\" : None,\n",
            "\"kategorie\" : Deckungszusage\n",
            "}\n",
            "Antwort konnte nicht zu json formatiert werden\n"
          ]
        },
        {
          "output_type": "stream",
          "name": "stderr",
          "text": [
            "Llama.generate: prefix-match hit\n"
          ]
        },
        {
          "output_type": "stream",
          "name": "stdout",
          "text": [
            "Antwort konnte nicht zu json formatiert werden\n",
            "Successfully processed entry 37 of 100\n"
          ]
        },
        {
          "output_type": "stream",
          "name": "stderr",
          "text": [
            "Llama.generate: prefix-match hit\n"
          ]
        },
        {
          "output_type": "stream",
          "name": "stdout",
          "text": [
            "  {\n",
            "    \"aktenzeichen\" : \"CBC-TRR9ZRD-724-Fowler\",\n",
            "    \"name\" : \"Estelle Fowler\",\n",
            "    \"schadensnummer\" : \"315/23-64354/K\",\n",
            "    \"kategorie\" : \"Deckungszusage\"\n",
            "}\n"
          ]
        },
        {
          "output_type": "stream",
          "name": "stderr",
          "text": [
            "Llama.generate: prefix-match hit\n"
          ]
        },
        {
          "output_type": "stream",
          "name": "stdout",
          "text": [
            "Antwort konnte nicht zu json formatiert werden\n",
            "Successfully processed entry 38 of 100\n"
          ]
        },
        {
          "output_type": "stream",
          "name": "stderr",
          "text": [
            "Llama.generate: prefix-match hit\n"
          ]
        },
        {
          "output_type": "stream",
          "name": "stdout",
          "text": [
            "  {\n",
            "    \"aktenzeichen\" : \"S-23-00143813\",\n",
            "    \"name\" : \"Hannah Daniels\",\n",
            "    \"schadensnummer\" : \"S-23-00143813\",\n",
            "    \"kategorie\" : \"Deckungszusage\"\n",
            "}\n"
          ]
        },
        {
          "output_type": "stream",
          "name": "stderr",
          "text": [
            "Llama.generate: prefix-match hit\n"
          ]
        },
        {
          "output_type": "stream",
          "name": "stdout",
          "text": [
            "Antwort konnte nicht zu json formatiert werden\n",
            "Successfully processed entry 39 of 100\n"
          ]
        },
        {
          "output_type": "stream",
          "name": "stderr",
          "text": [
            "Llama.generate: prefix-match hit\n"
          ]
        },
        {
          "output_type": "stream",
          "name": "stdout",
          "text": [
            "  {\n",
            "    \"aktenzeichen\" : \"CBC-TE3HYKD-442-BRUNNER\",\n",
            "    \"name\" : \"Leona Duran\",\n",
            "    \"schadensnummer\" : \"2226-097.039.2-324\",\n",
            "    \"kategorie\" : \"Deckungszusage\"\n",
            "}\n"
          ]
        },
        {
          "output_type": "stream",
          "name": "stderr",
          "text": [
            "Llama.generate: prefix-match hit\n"
          ]
        },
        {
          "output_type": "stream",
          "name": "stdout",
          "text": [
            "Antwort konnte nicht zu json formatiert werden\n",
            "Successfully processed entry 40 of 100\n"
          ]
        },
        {
          "output_type": "stream",
          "name": "stderr",
          "text": [
            "Llama.generate: prefix-match hit\n"
          ]
        },
        {
          "output_type": "stream",
          "name": "stdout",
          "text": [
            "  {\n",
            "    \"aktenzeichen\" : \"CBC-FUHZ3FD-438\",\n",
            "    \"name\" : \"Damari Rubio\",\n",
            "    \"schadensnummer\" : \"2023001457\",\n",
            "    \"kategorie\" : \"Deckungszusage\"\n",
            "}\n"
          ]
        },
        {
          "output_type": "stream",
          "name": "stderr",
          "text": [
            "Llama.generate: prefix-match hit\n"
          ]
        },
        {
          "output_type": "stream",
          "name": "stdout",
          "text": [
            "Antwort konnte nicht zu json formatiert werden\n",
            "Successfully processed entry 41 of 100\n"
          ]
        },
        {
          "output_type": "stream",
          "name": "stderr",
          "text": [
            "Llama.generate: prefix-match hit\n"
          ]
        },
        {
          "output_type": "stream",
          "name": "stdout",
          "text": [
            "  {\n",
            "    \"aktenzeichen\" : CBC-PFCEY3D-373-Lynch,\n",
            "    \"name\" : Rodrigo Lynch,\n",
            "    \"schadensnummer\" : 9247-26-22-323 617-2,\n",
            "    \"kategorie\" : Deckungszusage\n",
            "Antwort konnte nicht zu json formatiert werden\n"
          ]
        },
        {
          "output_type": "stream",
          "name": "stderr",
          "text": [
            "Llama.generate: prefix-match hit\n"
          ]
        },
        {
          "output_type": "stream",
          "name": "stdout",
          "text": [
            "Successfully processed entry 42 of 100\n"
          ]
        },
        {
          "output_type": "stream",
          "name": "stderr",
          "text": [
            "Llama.generate: prefix-match hit\n"
          ]
        },
        {
          "output_type": "stream",
          "name": "stdout",
          "text": [
            "  {\n",
            "    \"aktenzeichen\" : \"2022201295\",\n",
            "    \"name\" : \"Owen Hensley\",\n",
            "    \"schadensnummer\" : \"2022201295\",\n",
            "    \"kategorie\" : \"Deckungszusage\"\n",
            "}\n"
          ]
        },
        {
          "output_type": "stream",
          "name": "stderr",
          "text": [
            "Llama.generate: prefix-match hit\n"
          ]
        },
        {
          "output_type": "stream",
          "name": "stdout",
          "text": [
            "Successfully processed entry 43 of 100\n"
          ]
        },
        {
          "output_type": "stream",
          "name": "stderr",
          "text": [
            "Llama.generate: prefix-match hit\n"
          ]
        },
        {
          "output_type": "stream",
          "name": "stdout",
          "text": [
            "  Sure, I'd be happy to help you extract the information from the document! Here are the answers to your questions:\n",
            "1. What category of document is it?\n",
            "The category of document is \"Deckungszusage\".\n",
            "2. What is the file number of the Kanzlei?\n",
            "The file number of the Kanzlei is CBC-EYRUKKD-296.\n",
            "3. What is the name of the Mandant?\n",
            "The name of the Mandant is Herr Dr. Drew Burton.\n",
            "4. What is the damage number of the insurance case?\n",
            "The damage number of the insurance case is AS2022-20319935.\n",
            "\n",
            "So, the answers to your questions are:\n",
            "{\n",
            "\"aktenzeichen\" : \"CBC-EYRUKKD-296\",\n",
            "\"name\" : \"Herr Dr. Drew Burton\",\n",
            "\"schadensnummer\" : \"AS2022-20319935\",\n",
            "\"kategorie\" : \"Deckungszusage\"\n",
            "}\n"
          ]
        },
        {
          "output_type": "stream",
          "name": "stderr",
          "text": [
            "Llama.generate: prefix-match hit\n"
          ]
        },
        {
          "output_type": "stream",
          "name": "stdout",
          "text": [
            "Successfully processed entry 44 of 100\n"
          ]
        },
        {
          "output_type": "stream",
          "name": "stderr",
          "text": [
            "Llama.generate: prefix-match hit\n"
          ]
        },
        {
          "output_type": "stream",
          "name": "stdout",
          "text": [
            "  {\n",
            "    \"aktenzeichen\" : \"CBC-CPGE3XD-121-Ferguson\",\n",
            "    \"name\" : \"Walker Ferguson\",\n",
            "    \"schadensnummer\" : \"6-22-031841\",\n",
            "    \"kategorie\" : \"Deckungszusage\"\n",
            "}\n"
          ]
        },
        {
          "output_type": "stream",
          "name": "stderr",
          "text": [
            "Llama.generate: prefix-match hit\n"
          ]
        },
        {
          "output_type": "stream",
          "name": "stdout",
          "text": [
            "Successfully processed entry 45 of 100\n"
          ]
        },
        {
          "output_type": "stream",
          "name": "stderr",
          "text": [
            "Llama.generate: prefix-match hit\n"
          ]
        },
        {
          "output_type": "stream",
          "name": "stdout",
          "text": [
            "  {\n",
            "    \"aktenzeichen\" : \"ARAG Rechtsschutz Schaden-Nummer 31 0112 1529 0468\",\n",
            "    \"name\" : \"Kori Lang\",\n",
            "    \"schadensnummer\" : \"08.07.2022\",\n",
            "    \"kategorie\" : \"Deckungszusage\"\n",
            "}\n"
          ]
        },
        {
          "output_type": "stream",
          "name": "stderr",
          "text": [
            "Llama.generate: prefix-match hit\n"
          ]
        },
        {
          "output_type": "stream",
          "name": "stdout",
          "text": [
            "Antwort konnte nicht zu json formatiert werden\n",
            "Successfully processed entry 46 of 100\n"
          ]
        },
        {
          "output_type": "stream",
          "name": "stderr",
          "text": [
            "Llama.generate: prefix-match hit\n"
          ]
        },
        {
          "output_type": "stream",
          "name": "stdout",
          "text": [
            "  {\n",
            "    \"aktenzeichen\" : \"010100422-004200759-09806\",\n",
            "    \"name\" : \"Nyla Hopkins\",\n",
            "    \"schadensnummer\" : \"1.400 €\",\n",
            "    \"kategorie\" : \"Deckungszusage\"\n",
            "}\n"
          ]
        },
        {
          "output_type": "stream",
          "name": "stderr",
          "text": [
            "Llama.generate: prefix-match hit\n"
          ]
        },
        {
          "output_type": "stream",
          "name": "stdout",
          "text": [
            "Antwort konnte nicht zu json formatiert werden\n",
            "Successfully processed entry 47 of 100\n"
          ]
        },
        {
          "output_type": "stream",
          "name": "stderr",
          "text": [
            "Llama.generate: prefix-match hit\n"
          ]
        },
        {
          "output_type": "stream",
          "name": "stdout",
          "text": [
            "  Sure, I can help you with that! Here are the extracted information from the provided document:\n",
            "{\n",
            "    \"aktenzeichen\" : \"CBC-RY392CD-527-Cabrera\",\n",
            "    \"name\" : \"Isabel Cabrera\",\n",
            "    \"schadensnummer\" : \"018046322-002746196-09804\",\n",
            "    \"kategorie\" : \"Deckungszusage\"\n",
            "}\n",
            "Please let me know if you need any further assistance!\n"
          ]
        },
        {
          "output_type": "stream",
          "name": "stderr",
          "text": [
            "Llama.generate: prefix-match hit\n"
          ]
        },
        {
          "output_type": "stream",
          "name": "stdout",
          "text": [
            "Successfully processed entry 48 of 100\n"
          ]
        },
        {
          "output_type": "stream",
          "name": "stderr",
          "text": [
            "Llama.generate: prefix-match hit\n"
          ]
        },
        {
          "output_type": "stream",
          "name": "stdout",
          "text": [
            "  Sure, I'd be happy to help you extract the information from the document! Here are the answers to your questions:\n",
            "1. What category of document is it?\n",
            "The category of the document is \"Deckungszusage\".\n",
            "2. What is the file number of the Kanzlei?\n",
            "The file number of the Kanzlei is \"CBC-PXRTK6D-448-Dogan\".\n",
            "3. What is the name of the Mandant?\n",
            "The name of the Mandant is \"Ihr Zeichen\".\n",
            "4. What is the damage number of the Versicherungsfall?\n",
            "The damage number of the Versicherungsfall is \"2022\".\n",
            "\n",
            "Here's the formatted JSON response:\n",
            "{\n",
            "    \"aktenzeichen\" : \"CBC-PXRTK6D-448-Dogan\",\n",
            "    \"name\" : \"Ihr Zeichen\",\n",
            "    \"schadensnummer\" : \"2022\",\n",
            "    \"kategorie\" : \"Deckungszusage\"\n",
            "}\n"
          ]
        },
        {
          "output_type": "stream",
          "name": "stderr",
          "text": [
            "Llama.generate: prefix-match hit\n"
          ]
        },
        {
          "output_type": "stream",
          "name": "stdout",
          "text": [
            "Antwort konnte nicht zu json formatiert werden\n",
            "Successfully processed entry 49 of 100\n"
          ]
        },
        {
          "output_type": "stream",
          "name": "stderr",
          "text": [
            "Llama.generate: prefix-match hit\n"
          ]
        },
        {
          "output_type": "stream",
          "name": "stdout",
          "text": [
            "  {\n",
            "    \"aktenzeichen\" : \"CBC-TE3HYKD-442-BRUNNER\",\n",
            "    \"name\" : \"Penny Wise\",\n",
            "    \"schadensnummer\" : \"2226-097.039.2-324\",\n",
            "    \"kategorie\" : \"Deckungszusage\"\n",
            "}\n"
          ]
        },
        {
          "output_type": "stream",
          "name": "stderr",
          "text": [
            "Llama.generate: prefix-match hit\n"
          ]
        },
        {
          "output_type": "stream",
          "name": "stdout",
          "text": [
            "Successfully processed entry 50 of 100\n"
          ]
        },
        {
          "output_type": "stream",
          "name": "stderr",
          "text": [
            "Llama.generate: prefix-match hit\n"
          ]
        },
        {
          "output_type": "stream",
          "name": "stdout",
          "text": [
            "  Sure, I can help you extract the information from the document. Here are the answers to your questions:\n",
            "{\n",
            "    \"aktenzeichen\" : \"31 0109 1564 3633\",\n",
            "    \"name\" : \"Lawson, Flora\",\n",
            "    \"schadensnummer\" : \"31 0109 1564 3633\",\n",
            "    \"kategorie\" : \"Deckungszusage\"\n",
            "}\n",
            "The document is a letter from the insurance company, Postbank, to a lawyer, Flora Lawson, regarding a legal protection insurance claim. The letter requests additional information from the lawyer, including copies of any extrajudicial correspondence and the complaint. The insurance company needs this information in order to process the claim.\n",
            "The categories of documents mentioned in the letter are:\n",
            "* Deckungszusage: The insurance company agrees to cover the costs of the case.\n",
            "* Deckungsablehnung: The insurance company rejects the claim.\n",
            "* Nachfrage: The insurance company requests more information from the lawyer.\n",
            "* Kostensache: The insurance company has already paid out costs related to the case.\n",
            "The document does not mention any other categories of documents.\n"
          ]
        },
        {
          "output_type": "stream",
          "name": "stderr",
          "text": [
            "Llama.generate: prefix-match hit\n"
          ]
        },
        {
          "output_type": "stream",
          "name": "stdout",
          "text": [
            "Successfully processed entry 51 of 100\n"
          ]
        },
        {
          "output_type": "stream",
          "name": "stderr",
          "text": [
            "Llama.generate: prefix-match hit\n"
          ]
        },
        {
          "output_type": "stream",
          "name": "stdout",
          "text": [
            "  Thank you for your prompt response. We are here to help you with your legal matter. To assist you further, we kindly request that you provide us with the following information:\n",
            "1. Please send us the category of document (Deckungszusage, Deckungsablehnung, Nachfrage, or Kostensache) based on which the insurance company has responded. If they have provided a Deckungszusage, they will cover the future costs of the case. If they have denied the claim (Deckungsablehnung), they do not want to provide any more information. If they are requesting more information from the law firm (Nachfrage), please provide it. If they have already paid costs (Kostensache), please indicate that as well.\n",
            "2. Please provide the file number of the case at the law firm.\n",
            "3. What is the name of the mandatee?\n",
            "4. What is the claim number of the insurance case? If you cannot find this information, please write \"None\".\n",
            "\n",
            "We kindly request that you format your response as a JSON file with the following structure:\n",
            "{\n",
            "    \"aktenzeichen\" : {extracted file number},\n",
            "    \"name\" : {extracted name},\n",
            "    \"schadensnummer\" : {extracted claim number},\n",
            "    \"kategorie\" : {extracted category: Deckungszusage - Deckungsablehnung - Nachfrage - Kosten}\n",
            "}\n",
            "Thank you for your cooperation. We will be happy to assist you further once we have received the requested information.\n",
            "Antwort konnte nicht zu json formatiert werden\n"
          ]
        },
        {
          "output_type": "stream",
          "name": "stderr",
          "text": [
            "Llama.generate: prefix-match hit\n"
          ]
        },
        {
          "output_type": "stream",
          "name": "stdout",
          "text": [
            "Successfully processed entry 52 of 100\n"
          ]
        },
        {
          "output_type": "stream",
          "name": "stderr",
          "text": [
            "Llama.generate: prefix-match hit\n"
          ]
        },
        {
          "output_type": "stream",
          "name": "stdout",
          "text": [
            "  Sure, I'd be happy to help you extract the information from the document! Here are the answers to your questions:\n",
            "{\n",
            "\"aktenzeichen\" : \"010100422-004200759-09806\",\n",
            "\"name\" : \"Naomi Shepard\",\n",
            "\"schadensnummer\" : \"09806\",\n",
            "\"kategorie\" : \"Deckungszusage\"\n",
            "}\n",
            "The document is a letter from an insurance company to a lawyer, informing them of the current status of a claim. The letter is machine-generated and does not have a signature, but it provides information on the category of the document (in this case, a Deckungszusage), the file number, the name of the mandatee (Naomi Shepard), and the claim number.\n"
          ]
        },
        {
          "output_type": "stream",
          "name": "stderr",
          "text": [
            "Llama.generate: prefix-match hit\n"
          ]
        },
        {
          "output_type": "stream",
          "name": "stdout",
          "text": [
            "Antwort konnte nicht zu json formatiert werden\n",
            "Successfully processed entry 53 of 100\n"
          ]
        },
        {
          "output_type": "stream",
          "name": "stderr",
          "text": [
            "Llama.generate: prefix-match hit\n"
          ]
        },
        {
          "output_type": "stream",
          "name": "stdout",
          "text": [
            "  {\n",
            "    \"aktenzeichen\" : \"608\",\n",
            "    \"name\" : \"Frau Charley House\",\n",
            "    \"schadensnummer\" : \"5R098536198-0003\",\n",
            "    \"kategorie\" : \"Deckungszusage\"\n",
            "}\n"
          ]
        },
        {
          "output_type": "stream",
          "name": "stderr",
          "text": [
            "Llama.generate: prefix-match hit\n"
          ]
        },
        {
          "output_type": "stream",
          "name": "stdout",
          "text": [
            "Antwort konnte nicht zu json formatiert werden\n",
            "Successfully processed entry 54 of 100\n"
          ]
        },
        {
          "output_type": "stream",
          "name": "stderr",
          "text": [
            "Llama.generate: prefix-match hit\n"
          ]
        },
        {
          "output_type": "stream",
          "name": "stdout",
          "text": [
            "  {\n",
            "    \"aktenzeichen\" : \"CBC-DHPRUHD-533-Wiesner\",\n",
            "    \"name\" : \"Sehr geehrte Damen und Herren\",\n",
            "    \"schadensnummer\" : \"2023-00008264.0\",\n",
            "    \"kategorie\" : \"Deckungszusage\"\n",
            "}\n"
          ]
        },
        {
          "output_type": "stream",
          "name": "stderr",
          "text": [
            "Llama.generate: prefix-match hit\n"
          ]
        },
        {
          "output_type": "stream",
          "name": "stdout",
          "text": [
            "Successfully processed entry 55 of 100\n"
          ]
        },
        {
          "output_type": "stream",
          "name": "stderr",
          "text": [
            "Llama.generate: prefix-match hit\n"
          ]
        },
        {
          "output_type": "stream",
          "name": "stdout",
          "text": [
            "  {\n",
            "    \"aktenzeichen\" : \"CBC-TE3HYKD-442-BRUNNER\",\n",
            "    \"name\" : \"Lilly Frazier\",\n",
            "    \"schadensnummer\" : \"2226-097.039.2-324\",\n",
            "    \"kategorie\" : \"Deckungszusage\"\n",
            "}\n"
          ]
        },
        {
          "output_type": "stream",
          "name": "stderr",
          "text": [
            "Llama.generate: prefix-match hit\n"
          ]
        },
        {
          "output_type": "stream",
          "name": "stdout",
          "text": [
            "Successfully processed entry 56 of 100\n"
          ]
        },
        {
          "output_type": "stream",
          "name": "stderr",
          "text": [
            "Llama.generate: prefix-match hit\n"
          ]
        },
        {
          "output_type": "stream",
          "name": "stdout",
          "text": [
            "  Sure, I'd be happy to help you extract the information from the document! Here is the data in JSON format:\n",
            "{\n",
            "\"aktenzeichen\" : \"CBC-C29E9XD-436\",\n",
            "\"name\" : \"Sawyer Cline\",\n",
            "\"schadensnummer\" : \"016681022-002404311-09804\",\n",
            "\"kategorie\" : \"Deckungszusage\"\n",
            "}\n",
            "\n",
            "I hope this helps! Let me know if you have any other questions.\n"
          ]
        },
        {
          "output_type": "stream",
          "name": "stderr",
          "text": [
            "Llama.generate: prefix-match hit\n"
          ]
        },
        {
          "output_type": "stream",
          "name": "stdout",
          "text": [
            "Antwort konnte nicht zu json formatiert werden\n",
            "Successfully processed entry 57 of 100\n"
          ]
        },
        {
          "output_type": "stream",
          "name": "stderr",
          "text": [
            "Llama.generate: prefix-match hit\n"
          ]
        },
        {
          "output_type": "stream",
          "name": "stdout",
          "text": [
            "  {\n",
            "    \"aktenzeichen\" : \"CBC-69K3FPD-403\",\n",
            "    \"name\" : \"Herrn Austin Mueller\",\n",
            "    \"schadensnummer\" : \"5RG75119391-0002\",\n",
            "    \"kategorie\" : \"Deckungszusage\"\n",
            "Antwort konnte nicht zu json formatiert werden\n"
          ]
        },
        {
          "output_type": "stream",
          "name": "stderr",
          "text": [
            "Llama.generate: prefix-match hit\n"
          ]
        },
        {
          "output_type": "stream",
          "name": "stdout",
          "text": [
            "Antwort konnte nicht zu json formatiert werden\n",
            "Successfully processed entry 58 of 100\n"
          ]
        },
        {
          "output_type": "stream",
          "name": "stderr",
          "text": [
            "Llama.generate: prefix-match hit\n"
          ]
        },
        {
          "output_type": "stream",
          "name": "stdout",
          "text": [
            "  Sure, I can help you extract the information from the document. Here are the answers to your questions:\n",
            "{\n",
            "    \"aktenzeichen\" : \"4r958n-63255-68062\",\n",
            "    \"name\" : \"Martin Woods\",\n",
            "    \"schadensnummer\" : \"5-22-00484616\",\n",
            "    \"kategorie\" : \"Deckungszusage\"\n",
            "}\n",
            "The document is a letter from a insurance company to a lawyer, informing them that they are in agreement with the client's decision to appeal the insurance claim. The letter provides the case number and the name of the client, as well as the category of the document (in this case, \"Deckungszusage\").\n"
          ]
        },
        {
          "output_type": "stream",
          "name": "stderr",
          "text": [
            "Llama.generate: prefix-match hit\n"
          ]
        },
        {
          "output_type": "stream",
          "name": "stdout",
          "text": [
            "Antwort konnte nicht zu json formatiert werden\n",
            "Successfully processed entry 59 of 100\n"
          ]
        },
        {
          "output_type": "stream",
          "name": "stderr",
          "text": [
            "Llama.generate: prefix-match hit\n"
          ]
        },
        {
          "output_type": "stream",
          "name": "stdout",
          "text": [
            "  {\n",
            "    \"aktenzeichen\" : \"AS2020-82252265\",\n",
            "    \"name\" : \"Herr Drew Burton\",\n",
            "    \"schadensnummer\" : \"81357d-51535-56292\",\n",
            "    \"kategorie\" : \"Deckungszusage\"\n",
            "}\n"
          ]
        },
        {
          "output_type": "stream",
          "name": "stderr",
          "text": [
            "Llama.generate: prefix-match hit\n"
          ]
        },
        {
          "output_type": "stream",
          "name": "stdout",
          "text": [
            "Successfully processed entry 60 of 100\n"
          ]
        },
        {
          "output_type": "stream",
          "name": "stderr",
          "text": [
            "Llama.generate: prefix-match hit\n"
          ]
        },
        {
          "output_type": "stream",
          "name": "stdout",
          "text": [
            "  {\n",
            "    \"aktenzeichen\" : \"23-01-402/143148-R\",\n",
            "    \"name\" : \"Henley Fisher\",\n",
            "    \"schadensnummer\" : \"MOB-84B31PF-70972-76015-Fisher\",\n",
            "    \"kategorie\" : \"Deckungszusage\"\n",
            "Antwort konnte nicht zu json formatiert werden\n"
          ]
        },
        {
          "output_type": "stream",
          "name": "stderr",
          "text": [
            "Llama.generate: prefix-match hit\n"
          ]
        },
        {
          "output_type": "stream",
          "name": "stdout",
          "text": [
            "Successfully processed entry 61 of 100\n"
          ]
        },
        {
          "output_type": "stream",
          "name": "stderr",
          "text": [
            "Llama.generate: prefix-match hit\n"
          ]
        },
        {
          "output_type": "stream",
          "name": "stdout",
          "text": [
            "  {\n",
            "    \"aktenzeichen\" : \"MOB-6A71P5F-71381-76424\",\n",
            "    \"name\" : \"Wood, Zuri\",\n",
            "    \"schadensnummer\" : \"2023336984\",\n",
            "    \"kategorie\" : \"Deckungszusage\"\n",
            "}\n"
          ]
        },
        {
          "output_type": "stream",
          "name": "stderr",
          "text": [
            "Llama.generate: prefix-match hit\n"
          ]
        },
        {
          "output_type": "stream",
          "name": "stdout",
          "text": [
            "Successfully processed entry 62 of 100\n"
          ]
        },
        {
          "output_type": "stream",
          "name": "stderr",
          "text": [
            "Llama.generate: prefix-match hit\n"
          ]
        },
        {
          "output_type": "stream",
          "name": "stdout",
          "text": [
            "  Sure, I'd be happy to help you extract the information from the document! Here is the JSON response based on the provided document:\n",
            "{\n",
            "    \"aktenzeichen\" : \"21464-21860-Dickerson\",\n",
            "    \"name\" : \"Oakley\",\n",
            "    \"schadensnummer\" : \"322/19-23793/A\",\n",
            "    \"kategorie\" : \"Deckungszusage\"\n",
            "}\n",
            "Please let me know if you need any further assistance!\n"
          ]
        },
        {
          "output_type": "stream",
          "name": "stderr",
          "text": [
            "Llama.generate: prefix-match hit\n"
          ]
        },
        {
          "output_type": "stream",
          "name": "stdout",
          "text": [
            "Successfully processed entry 63 of 100\n"
          ]
        },
        {
          "output_type": "stream",
          "name": "stderr",
          "text": [
            "Llama.generate: prefix-match hit\n"
          ]
        },
        {
          "output_type": "stream",
          "name": "stdout",
          "text": [
            "  {\n",
            "    \"aktenzeichen\" : \"AS2021-20246704\",\n",
            "    \"name\" : \"Frau Kairi Norton\",\n",
            "    \"schadensnummer\" : \"24.08.2018\",\n",
            "    \"kategorie\" : \"Deckungszusage\"\n",
            "}\n"
          ]
        },
        {
          "output_type": "stream",
          "name": "stderr",
          "text": [
            "Llama.generate: prefix-match hit\n"
          ]
        },
        {
          "output_type": "stream",
          "name": "stdout",
          "text": [
            "Successfully processed entry 64 of 100\n"
          ]
        },
        {
          "output_type": "stream",
          "name": "stderr",
          "text": [
            "Llama.generate: prefix-match hit\n"
          ]
        },
        {
          "output_type": "stream",
          "name": "stdout",
          "text": [
            "  Sure, I'd be happy to help you extract the information from the document! Here is the JSON response based on the provided text:\n",
            "{\n",
            "\"aktenzeichen\" : \"Lüttmann MOB-TGRGEHD-70246-75290\",\n",
            "\"name\" : \"Sehr geehrte Damen und Herren\",\n",
            "\"schadensnummer\" : \"70246\",\n",
            "\"kategorie\" : \"Deckungszusage\"\n",
            "}\n",
            "Please let me know if you need any further assistance!\n"
          ]
        },
        {
          "output_type": "stream",
          "name": "stderr",
          "text": [
            "Llama.generate: prefix-match hit\n"
          ]
        },
        {
          "output_type": "stream",
          "name": "stdout",
          "text": [
            "Antwort konnte nicht zu json formatiert werden\n",
            "Successfully processed entry 65 of 100\n"
          ]
        },
        {
          "output_type": "stream",
          "name": "stderr",
          "text": [
            "Llama.generate: prefix-match hit\n"
          ]
        },
        {
          "output_type": "stream",
          "name": "stdout",
          "text": [
            "  {\n",
            "    \"aktenzeichen\" : \"22-01-438/079649-D\",\n",
            "    \"name\" : \"Jade Simon\",\n",
            "    \"schadensnummer\" : \"76744-Simon\",\n",
            "    \"kategorie\" : \"Deckungszusage\"\n",
            "}\n"
          ]
        },
        {
          "output_type": "stream",
          "name": "stderr",
          "text": [
            "Llama.generate: prefix-match hit\n"
          ]
        },
        {
          "output_type": "stream",
          "name": "stdout",
          "text": [
            "Antwort konnte nicht zu json formatiert werden\n",
            "Successfully processed entry 66 of 100\n"
          ]
        },
        {
          "output_type": "stream",
          "name": "stderr",
          "text": [
            "Llama.generate: prefix-match hit\n"
          ]
        },
        {
          "output_type": "stream",
          "name": "stdout",
          "text": [
            "  {\n",
            "    \"aktenzeichen\" : \"AS2019-40470038\",\n",
            "    \"name\" : \"Kyle Velasquez\",\n",
            "    \"schadensnummer\" : \"08.03.2013\",\n",
            "    \"kategorie\" : \"Deckungszusage\"\n",
            "}\n"
          ]
        },
        {
          "output_type": "stream",
          "name": "stderr",
          "text": [
            "Llama.generate: prefix-match hit\n"
          ]
        },
        {
          "output_type": "stream",
          "name": "stdout",
          "text": [
            "Successfully processed entry 67 of 100\n"
          ]
        },
        {
          "output_type": "stream",
          "name": "stderr",
          "text": [
            "Llama.generate: prefix-match hit\n"
          ]
        },
        {
          "output_type": "stream",
          "name": "stdout",
          "text": [
            "  {\n",
            "    \"aktenzeichen\" : \"MOB-96XM353F-76415-71372\",\n",
            "    \"name\" : \"Harley Suarez\",\n",
            "    \"schadensnummer\" : \"5-23-04591932\",\n",
            "    \"kategorie\" : \"Deckungszusage\"\n",
            "}\n"
          ]
        },
        {
          "output_type": "stream",
          "name": "stderr",
          "text": [
            "Llama.generate: prefix-match hit\n"
          ]
        },
        {
          "output_type": "stream",
          "name": "stdout",
          "text": [
            "Successfully processed entry 68 of 100\n"
          ]
        },
        {
          "output_type": "stream",
          "name": "stderr",
          "text": [
            "Llama.generate: prefix-match hit\n"
          ]
        },
        {
          "output_type": "stream",
          "name": "stdout",
          "text": [
            "  {\n",
            "    \"aktenzeichen\" : \"ARAG Rechtsschutz Schaden-Nummer 31 0124 1220 2565\",\n",
            "    \"name\" : \"Rose Cook / VW AG\",\n",
            "    \"schadensnummer\" : \"11.08.2015\",\n",
            "    \"kategorie\" : \"Deckungszusage\"\n",
            "}\n",
            "Successfully processed entry 69 of 100\n"
          ]
        },
        {
          "output_type": "stream",
          "name": "stderr",
          "text": [
            "Llama.generate: prefix-match hit\n"
          ]
        },
        {
          "output_type": "stream",
          "name": "stdout",
          "text": [
            "  {\n",
            "    \"aktenzeichen\" : \"MOB-6Z5KS3F-72127-77187\",\n",
            "    \"name\" : \"Kimber Harmon\",\n",
            "    \"schadensnummer\" : \"3037281700\",\n",
            "    \"kategorie\" : \"Deckungszusage\"\n",
            "}\n",
            "Successfully processed entry 70 of 100\n"
          ]
        },
        {
          "output_type": "stream",
          "name": "stderr",
          "text": [
            "Llama.generate: prefix-match hit\n"
          ]
        },
        {
          "output_type": "stream",
          "name": "stdout",
          "text": [
            "  {\n",
            "    \"aktenzeichen\" : \"005041222-001382160-09820\",\n",
            "    \"name\" : \"Ronin Donaldson\",\n",
            "    \"schadensnummer\" : \"001382160-09820\",\n",
            "    \"kategorie\" : \"Deckungszusage\"\n",
            "Antwort konnte nicht zu json formatiert werden\n",
            "Successfully processed entry 71 of 100\n"
          ]
        },
        {
          "output_type": "stream",
          "name": "stderr",
          "text": [
            "Llama.generate: prefix-match hit\n"
          ]
        },
        {
          "output_type": "stream",
          "name": "stdout",
          "text": [
            "  {\n",
            "    \"aktenzeichen\" : \"91zv4r-48237-52\",\n",
            "    \"name\" : \"Amiyah Moreno\",\n",
            "    \"schadensnummer\" : \"2020.99.28.34629.6\",\n",
            "    \"kategorie\" : \"Deckungszusage\"\n",
            "Antwort konnte nicht zu json formatiert werden\n",
            "Successfully processed entry 72 of 100\n"
          ]
        },
        {
          "output_type": "stream",
          "name": "stderr",
          "text": [
            "Llama.generate: prefix-match hit\n"
          ]
        },
        {
          "output_type": "stream",
          "name": "stdout",
          "text": [
            "  {\n",
            "    \"aktenzeichen\" : 65889-70719,\n",
            "    \"name\" : Elora Harrell,\n",
            "    \"schadensnummer\" : 2022326598,\n",
            "    \"kategorie\" : Deckungszusage\n",
            "Antwort konnte nicht zu json formatiert werden\n"
          ]
        },
        {
          "output_type": "stream",
          "name": "stderr",
          "text": [
            "Llama.generate: prefix-match hit\n"
          ]
        },
        {
          "output_type": "stream",
          "name": "stdout",
          "text": [
            "Antwort konnte nicht zu json formatiert werden\n",
            "Successfully processed entry 73 of 100\n"
          ]
        },
        {
          "output_type": "stream",
          "name": "stderr",
          "text": [
            "Llama.generate: prefix-match hit\n"
          ]
        },
        {
          "output_type": "stream",
          "name": "stdout",
          "text": [
            "  Sure, I can help you extract the information from the document. Here are the answers to your questions:\n",
            "1. What category of document is it?\n",
            "The category of the document is \"Deckungszusage\".\n",
            "2. What is the file number of the Kanzlei?\n",
            "The file number of the Kanzlei is 007893120-001503711-09817.\n",
            "3. What is the name of the mandatee?\n",
            "The name of the mandatee is Juliana Mora.\n",
            "4. What is the damage number of the Versicherungsfall?\n",
            "The damage number of the Versicherungsfall is 8dcmfk-43358-48098.\n",
            "\n",
            "So, here is the formatted JSON response:\n",
            "{\n",
            "\"aktenzeichen\" : \"007893120-001503711-09817\",\n",
            "\"name\" : \"Juliana Mora\",\n",
            "\"schadensnummer\" : \"8dcmfk-43358-48098\",\n",
            "\"kategorie\" : \"Deckungszusage\"\n",
            "}\n"
          ]
        },
        {
          "output_type": "stream",
          "name": "stderr",
          "text": [
            "Llama.generate: prefix-match hit\n"
          ]
        },
        {
          "output_type": "stream",
          "name": "stdout",
          "text": [
            "Antwort konnte nicht zu json formatiert werden\n",
            "Successfully processed entry 74 of 100\n"
          ]
        },
        {
          "output_type": "stream",
          "name": "stderr",
          "text": [
            "Llama.generate: prefix-match hit\n"
          ]
        },
        {
          "output_type": "stream",
          "name": "stdout",
          "text": [
            "  Sure, I'd be happy to help you extract the information from the document! Here are the answers to your questions:\n",
            "{\n",
            "\"aktenzeichen\" : \"MOB-FGXT2RD-70428-75473-Stark\",\n",
            "\"name\" : \"Itzayana Stark\",\n",
            "\"schadensnummer\" : \"S8748-75MV-23-111813\",\n",
            "\"kategorie\" : \"Deckungszusage\"\n",
            "}\n",
            "\n",
            "I hope this helps! Let me know if you have any other questions.\n",
            "Successfully processed entry 75 of 100\n"
          ]
        },
        {
          "output_type": "stream",
          "name": "stderr",
          "text": [
            "Llama.generate: prefix-match hit\n"
          ]
        },
        {
          "output_type": "stream",
          "name": "stdout",
          "text": [
            "  {\n",
            "    \"aktenzeichen\" : \"AS2019-82727033\",\n",
            "    \"name\" : \"Herr Murphy Estes\",\n",
            "    \"schadensnummer\" : \"AS2019-82727033\",\n",
            "    \"kategorie\" : \"Deckungszusage\"\n",
            "}\n"
          ]
        },
        {
          "output_type": "stream",
          "name": "stderr",
          "text": [
            "Llama.generate: prefix-match hit\n"
          ]
        },
        {
          "output_type": "stream",
          "name": "stdout",
          "text": [
            "Successfully processed entry 76 of 100\n"
          ]
        },
        {
          "output_type": "stream",
          "name": "stderr",
          "text": [
            "Llama.generate: prefix-match hit\n"
          ]
        },
        {
          "output_type": "stream",
          "name": "stdout",
          "text": [
            "  {\n",
            "    \"aktenzeichen\" : \"AS2021-20302057\",\n",
            "    \"name\" : \"Herr Alec Lopez\",\n",
            "    \"schadensnummer\" : \"9015267310\",\n",
            "    \"kategorie\" : \"Deckungszusage\"\n",
            "}\n",
            "Successfully processed entry 77 of 100\n"
          ]
        },
        {
          "output_type": "stream",
          "name": "stderr",
          "text": [
            "Llama.generate: prefix-match hit\n"
          ]
        },
        {
          "output_type": "stream",
          "name": "stdout",
          "text": [
            "  {\n",
            "    \"aktenzeichen\" : MOB-3HTKZXD-70411-75456,\n",
            "    \"name\" : Herr Rylie Ellis,\n",
            "    \"schadensnummer\" : AS2023-70701233,\n",
            "    \"kategorie\" : Deckungszusage\n",
            "Antwort konnte nicht zu json formatiert werden\n",
            "Successfully processed entry 78 of 100\n"
          ]
        },
        {
          "output_type": "stream",
          "name": "stderr",
          "text": [
            "Llama.generate: prefix-match hit\n"
          ]
        },
        {
          "output_type": "stream",
          "name": "stdout",
          "text": [
            "  {\n",
            "    \"aktenzeichen\" : \"37mycn-37684-42408\",\n",
            "    \"name\" : \"Herr de Goes\",\n",
            "    \"schadensnummer\" : \"AS2020-80748084\",\n",
            "    \"kategorie\" : \"Deckungsablehnung\"\n",
            "}\n",
            "Successfully processed entry 79 of 100\n"
          ]
        },
        {
          "output_type": "stream",
          "name": "stderr",
          "text": [
            "Llama.generate: prefix-match hit\n"
          ]
        },
        {
          "output_type": "stream",
          "name": "stdout",
          "text": [
            "  {\n",
            "    \"aktenzeichen\" : \"7fbqxz-57856-62642\",\n",
            "    \"name\" : \"Adelyn Larsen\",\n",
            "    \"schadensnummer\" : \"21-01-421/084179-T\",\n",
            "    \"kategorie\" : \"Deckungszusage\"\n",
            "Antwort konnte nicht zu json formatiert werden\n",
            "Successfully processed entry 80 of 100\n"
          ]
        },
        {
          "output_type": "stream",
          "name": "stderr",
          "text": [
            "Llama.generate: prefix-match hit\n"
          ]
        },
        {
          "output_type": "stream",
          "name": "stdout",
          "text": [
            "  {\n",
            "    \"aktenzeichen\" : \"37us62-51355-56112-McKee\",\n",
            "    \"name\" : \"Herr Quincy McKee\",\n",
            "    \"schadensnummer\" : \"AS2020-50939201\",\n",
            "    \"kategorie\" : \"Deckungszusage\"\n",
            "}\n",
            "Successfully processed entry 81 of 100\n"
          ]
        },
        {
          "output_type": "stream",
          "name": "stderr",
          "text": [
            "Llama.generate: prefix-match hit\n"
          ]
        },
        {
          "output_type": "stream",
          "name": "stdout",
          "text": [
            "  Sure, I'd be happy to help you extract the information from the document! Here are the answers to your questions:\n",
            "{\n",
            "\"aktenzeichen\" : \"MOB-FGPG2RD-67766-72625\",\n",
            "\"name\" : \"Adrian Kröber\",\n",
            "\"schadensnummer\" : \"AS2021-60303835\",\n",
            "\"kategorie\" : \"Deckungszusage\"\n",
            "}\n",
            "\n",
            "The document is a Deckungszusage (coverage acceptance) letter, in which the insurance company confirms that they will cover the costs of the damage. The category of the document is \"Coverage Acceptance\". The act number of the case is \"MOB-FGPG2RD-67766-72625\". The name of the plaintiff is \"Adrian Kröber\" and the damage number is \"AS2021-60303835\".\n",
            "Successfully processed entry 82 of 100\n"
          ]
        },
        {
          "output_type": "stream",
          "name": "stderr",
          "text": [
            "Llama.generate: prefix-match hit\n"
          ]
        },
        {
          "output_type": "stream",
          "name": "stdout",
          "text": [
            "  Sure, I'd be happy to help you extract the information from the document! Here is the JSON response based on the provided document:\n",
            "{\n",
            "    \"aktenzeichen\" : \"GHYCGED-65733-70557\",\n",
            "    \"name\" : \"Volkswagen AG\",\n",
            "    \"schadensnummer\" : \"75-4061270-51\",\n",
            "    \"kategorie\" : \"Deckungszusage\"\n",
            "}\n",
            "Please let me know if you need any further assistance!\n",
            "Successfully processed entry 83 of 100\n"
          ]
        },
        {
          "output_type": "stream",
          "name": "stderr",
          "text": [
            "Llama.generate: prefix-match hit\n"
          ]
        },
        {
          "output_type": "stream",
          "name": "stdout",
          "text": [
            "  {\n",
            "    \"aktenzeichen\" : \"5ra3w8-62710-67516\",\n",
            "    \"name\" : \"Chen, Francesca\",\n",
            "    \"schadensnummer\" : \"2021383801\",\n",
            "    \"kategorie\" : \"Deckungszusage\"\n",
            "Antwort konnte nicht zu json formatiert werden\n"
          ]
        },
        {
          "output_type": "stream",
          "name": "stderr",
          "text": [
            "Llama.generate: prefix-match hit\n"
          ]
        },
        {
          "output_type": "stream",
          "name": "stdout",
          "text": [
            "Antwort konnte nicht zu json formatiert werden\n",
            "Successfully processed entry 84 of 100\n"
          ]
        },
        {
          "output_type": "stream",
          "name": "stderr",
          "text": [
            "Llama.generate: prefix-match hit\n"
          ]
        },
        {
          "output_type": "stream",
          "name": "stdout",
          "text": [
            "  {\n",
            "    \"aktenzeichen\" : MOB-8PXDZGF-71384-76,\n",
            "    \"name\" : Kameron Estrada,\n",
            "    \"schadensnummer\" : None,\n",
            "    \"kategorie\" : Deckungszusage\n",
            "Antwort konnte nicht zu json formatiert werden\n",
            "Successfully processed entry 85 of 100\n"
          ]
        },
        {
          "output_type": "stream",
          "name": "stderr",
          "text": [
            "Llama.generate: prefix-match hit\n"
          ]
        },
        {
          "output_type": "stream",
          "name": "stdout",
          "text": [
            "  Sure, I'd be happy to help you extract the information from the document! Here are the answers to your questions:\n",
            "{\n",
            "\"aktenzeichen\" : \"MOB-8teq-17-64053-68861\",\n",
            "\"name\" : \"Ferguson\",\n",
            "\"schadensnummer\" : \"2023174546\",\n",
            "\"kategorie\" : \"Deckungszusage\"\n",
            "}\n",
            "The document is a letter from an insurance company to a customer, informing them that they will be paying the costs of a legal case involving their vehicle, a VW Tiguan. The letter includes the file number and the name of the customer, as well as the category of the document (in this case, \"Deckungszusage\").\n",
            "Successfully processed entry 86 of 100\n"
          ]
        },
        {
          "output_type": "stream",
          "name": "stderr",
          "text": [
            "Llama.generate: prefix-match hit\n"
          ]
        },
        {
          "output_type": "stream",
          "name": "stdout",
          "text": [
            "  Sure, I'd be happy to help you extract the information from the document! Here are the answers to your questions:\n",
            "{\n",
            "\"aktenzeichen\" : \"MOB-U3ECUXD-66793-71637\",\n",
            "\"name\" : \"Wells Singleton\",\n",
            "\"schadensnummer\" : \"2022142338\",\n",
            "\"kategorie\" : \"Deckungszusage\"\n",
            "}\n",
            "The document is a letter from an insurance company to a client, informing them that they will be paying out EUR 483.00 to the Landesoberkasse Baden-Württemberg-Metzingen (a court fund) and EUR 1.017.45 to the client's legal fees. The letter also mentions a case number, which is \"2022142338\".\n",
            "I hope this helps! Let me know if you have any other questions.\n",
            "Successfully processed entry 87 of 100\n"
          ]
        },
        {
          "output_type": "stream",
          "name": "stderr",
          "text": [
            "Llama.generate: prefix-match hit\n"
          ]
        },
        {
          "output_type": "stream",
          "name": "stdout",
          "text": [
            "  Sure, I'd be happy to help you extract the information from the document! Here are the answers to your questions:\n",
            "{\n",
            "\"aktenzeichen\" : \"8mg7ev-6433169140\",\n",
            "\"name\" : \"Phillip Grimes\",\n",
            "\"schadensnummer\" : \"2022018363\",\n",
            "\"kategorie\" : \"Deckungszusage\"\n",
            "}\n",
            "The document is a notice from an insurance company informing the client that they will cover the costs of a legal case with the amount of EUR 1.796,00. The insurance company cannot accept the mailing fee as it was not incurred by them. The notice is addressed to Phillip Grimes and includes his name and the case number.\n",
            "Successfully processed entry 88 of 100\n"
          ]
        },
        {
          "output_type": "stream",
          "name": "stderr",
          "text": [
            "Llama.generate: prefix-match hit\n"
          ]
        },
        {
          "output_type": "stream",
          "name": "stdout",
          "text": [
            "  Sure, I'd be happy to help you extract the information from the document! Here are the answers to your questions:\n",
            "{\n",
            "\"aktenzeichen\" : \"013373922-004053592-09817\",\n",
            "\"name\" : \"Shiloh Boone\",\n",
            "\"schadensnummer\" : \"123456789\",\n",
            "\"kategorie\" : \"Deckungszusage\"\n",
            "}\n",
            "Successfully processed entry 89 of 100\n"
          ]
        },
        {
          "output_type": "stream",
          "name": "stderr",
          "text": [
            "Llama.generate: prefix-match hit\n"
          ]
        },
        {
          "output_type": "stream",
          "name": "stdout",
          "text": [
            "  Based on the provided document, here are the extracted information in JSON format:\n",
            "{\n",
            "    \"aktenzeichen\" : \"MOB-74uags-61643-6644\",\n",
            "    \"name\" : \"Ensley Nolan\",\n",
            "    \"schadensnummer\" : \"3229736800\",\n",
            "    \"kategorie\" : \"Deckungszusage\"\n",
            "}\n",
            "The extracted information includes:\n",
            "\n",
            "* Aktenzeichen (file number): MOB-74uags-61643-6644\n",
            "* Name of the mandate (mandatory): Ensley Nolan\n",
            "* Schadensnummer (claim number): 3229736800\n",
            "* Category of the document: Deckungszusage (the insurance company is agreeing to cover future costs)\n"
          ]
        },
        {
          "output_type": "stream",
          "name": "stderr",
          "text": [
            "Llama.generate: prefix-match hit\n"
          ]
        },
        {
          "output_type": "stream",
          "name": "stdout",
          "text": [
            "Successfully processed entry 90 of 100\n"
          ]
        },
        {
          "output_type": "stream",
          "name": "stderr",
          "text": [
            "Llama.generate: prefix-match hit\n"
          ]
        },
        {
          "output_type": "stream",
          "name": "stdout",
          "text": [
            "  Sure, I'd be happy to help you extract the information from the document! Here are the answers to your questions:\n",
            "{\n",
            "\"aktenzeichen\" : \"1ehxu2-54735-59504\",\n",
            "\"name\" : \"Williamson\",\n",
            "\"schadensnummer\" : \"2021034898\",\n",
            "\"kategorie\" : \"Deckungszusage\"\n",
            "}\n",
            "The document is a letter from an insurance company to a lawyer, informing them that they have received the amount of EUR 483.00 and have also settled their costs. The letter does not contain any information about the category of the document, so I have assumed it to be a \"Deckungszusage\" based on the context. Please let me know if you need further assistance!\n",
            "Successfully processed entry 91 of 100\n"
          ]
        },
        {
          "output_type": "stream",
          "name": "stderr",
          "text": [
            "Llama.generate: prefix-match hit\n"
          ]
        },
        {
          "output_type": "stream",
          "name": "stdout",
          "text": [
            "  Sure, I'd be happy to help you extract the information from the document! Here are the answers to your questions:\n",
            "    1. The category of the document is \"Deckungszusage\".\n",
            "    2. The Aktenzeichen (file number) of the Kanzlei (law firm) is not provided in the document.\n",
            "    3. The name of the Mandant (client) is Alessia Singh.\n",
            "    4. The Schadensnummer (claim number) of the Versicherungsfall (insurance case) is not provided in the document.\n",
            "\n",
            "So, the answers to your questions are:\n",
            "{\n",
            "    \"aktenzeichen\" : None,\n",
            "    \"name\" : Alessia Singh,\n",
            "    \"schadensnummer\" : None,\n",
            "    \"kategorie\" : Deckungszusage\n",
            "}\n",
            "Antwort konnte nicht zu json formatiert werden\n"
          ]
        },
        {
          "output_type": "stream",
          "name": "stderr",
          "text": [
            "Llama.generate: prefix-match hit\n"
          ]
        },
        {
          "output_type": "stream",
          "name": "stdout",
          "text": [
            "Antwort konnte nicht zu json formatiert werden\n",
            "Successfully processed entry 92 of 100\n"
          ]
        },
        {
          "output_type": "stream",
          "name": "stderr",
          "text": [
            "Llama.generate: prefix-match hit\n"
          ]
        },
        {
          "output_type": "stream",
          "name": "stdout",
          "text": [
            "  Sure, I'd be happy to help you extract the information from the document! Here are the answers to your questions:\n",
            "{\n",
            "\"aktenzeichen\" : \"S-20-01923658\",\n",
            "\"name\" : \"Milan Medrano\",\n",
            "\"schadensnummer\" : \"S-20-01923658\",\n",
            "\"kategorie\" : \"Deckungszusage\"\n",
            "}\n",
            "\n",
            "I hope this helps! Let me know if you have any other questions.\n",
            "Successfully processed entry 93 of 100\n"
          ]
        },
        {
          "output_type": "stream",
          "name": "stderr",
          "text": [
            "Llama.generate: prefix-match hit\n"
          ]
        },
        {
          "output_type": "stream",
          "name": "stdout",
          "text": [
            "  {\n",
            "    \"aktenzeichen\" : \"AS2020-40480546\",\n",
            "    \"name\" : \"Herr Korbyn Cruz\",\n",
            "    \"schadensnummer\" : \"49650-Cruz\",\n",
            "    \"kategorie\" : \"Deckungszusage\"\n",
            "}\n",
            "Successfully processed entry 94 of 100\n"
          ]
        },
        {
          "output_type": "stream",
          "name": "stderr",
          "text": [
            "Llama.generate: prefix-match hit\n"
          ]
        },
        {
          "output_type": "stream",
          "name": "stdout",
          "text": [
            "  {\n",
            "    \"aktenzeichen\" : \"AS2020-80985308\",\n",
            "    \"name\" : \"Herr Dr. Gansel\",\n",
            "    \"schadensnummer\" : \"47652\",\n",
            "    \"kategorie\" : \"Deckungszusage\"\n",
            "}\n",
            "Successfully processed entry 95 of 100\n"
          ]
        },
        {
          "output_type": "stream",
          "name": "stderr",
          "text": [
            "Llama.generate: prefix-match hit\n"
          ]
        },
        {
          "output_type": "stream",
          "name": "stdout",
          "text": [
            "  {\n",
            "    \"aktenzeichen\" : \"135042447/003\",\n",
            "    \"name\" : \"Katherine West\",\n",
            "    \"schadensnummer\" : \"42552-47286\",\n",
            "    \"kategorie\" : \"Deckungszusage\"\n",
            "Antwort konnte nicht zu json formatiert werden\n",
            "Successfully processed entry 96 of 100\n"
          ]
        },
        {
          "output_type": "stream",
          "name": "stderr",
          "text": [
            "Llama.generate: prefix-match hit\n"
          ]
        },
        {
          "output_type": "stream",
          "name": "stdout",
          "text": [
            "  {\n",
            "    \"aktenzeichen\" : \"2023.99.28.88838.9\",\n",
            "    \"name\" : \"Priscilla Dalton\",\n",
            "    \"schadensnummer\" : \"27.02.2019\",\n",
            "    \"kategorie\" : \"Deckungszusage\"\n",
            "}\n",
            "Successfully processed entry 97 of 100\n"
          ]
        },
        {
          "output_type": "stream",
          "name": "stderr",
          "text": [
            "Llama.generate: prefix-match hit\n"
          ]
        },
        {
          "output_type": "stream",
          "name": "stdout",
          "text": [
            "  {\n",
            "    \"aktenzeichen\" : \"MOB-9NVDARF-71651-76695\",\n",
            "    \"name\" : \"Herrn Halo Ferguson\",\n",
            "    \"schadensnummer\" : \"71651-76695\",\n",
            "    \"kategorie\" : \"Deckungszusage\"\n",
            "Antwort konnte nicht zu json formatiert werden\n",
            "Successfully processed entry 98 of 100\n"
          ]
        },
        {
          "output_type": "stream",
          "name": "stderr",
          "text": [
            "Llama.generate: prefix-match hit\n"
          ]
        },
        {
          "output_type": "stream",
          "name": "stdout",
          "text": [
            "  {\n",
            "    \"aktenzeichen\" : \"66251-71083\",\n",
            "    \"name\" : \"Herrn Dane Wang\",\n",
            "    \"schadensnummer\" : \"S5RO96625626-0001\",\n",
            "    \"kategorie\" : \"Deckungszusage\"\n",
            "}\n"
          ]
        },
        {
          "output_type": "stream",
          "name": "stderr",
          "text": [
            "Llama.generate: prefix-match hit\n"
          ]
        },
        {
          "output_type": "stream",
          "name": "stdout",
          "text": [
            "Antwort konnte nicht zu json formatiert werden\n",
            "Successfully processed entry 99 of 100\n"
          ]
        },
        {
          "output_type": "stream",
          "name": "stderr",
          "text": [
            "Llama.generate: prefix-match hit\n"
          ]
        },
        {
          "output_type": "stream",
          "name": "stdout",
          "text": [
            "  Sure, I'd be happy to help you extract the information from the document! Here are the answers to your questions:\n",
            "1. The category of the document is \"Deckungszusage\".\n",
            "2. The Aktenzeichen (file number) of the Kanzlei (law firm) is \"31 0124 1931 5161\".\n",
            "3. The name of the Mandant (client) is \"Drew Sheppard\".\n",
            "4. The Schadensnummer (claim number) of the Versicherungsfall (insurance case) is \"23.02.2017\".\n",
            "\n",
            "So, the answers to your questions are:\n",
            "{\n",
            "\"aktenzeichen\" : \"31 0124 1931 5161\",\n",
            "\"name\" : \"Drew Sheppard\",\n",
            "\"schadensnummer\" : \"23.02.2017\",\n",
            "\"kategorie\" : \"Deckungszusage\"\n",
            "}\n"
          ]
        },
        {
          "output_type": "stream",
          "name": "stderr",
          "text": [
            "Llama.generate: prefix-match hit\n"
          ]
        },
        {
          "output_type": "stream",
          "name": "stdout",
          "text": [
            "Antwort konnte nicht zu json formatiert werden\n",
            "Successfully processed entry 100 of 100\n",
            "All done :)\n"
          ]
        }
      ]
    }
  ]
}